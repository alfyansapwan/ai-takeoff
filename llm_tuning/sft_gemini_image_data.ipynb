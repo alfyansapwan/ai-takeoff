{
 "cells": [
  {
   "cell_type": "code",
   "execution_count": 1,
   "metadata": {
    "cellView": "form",
    "id": "9f0d0f32-23b4-41a6-b364-579da297c326",
    "tags": []
   },
   "outputs": [],
   "source": [
    "# @title Copyright & License (click to expand)\n",
    "# Copyright 2024 Google LLC\n",
    "#\n",
    "# Licensed under the Apache License, Version 2.0 (the \"License\");\n",
    "# you may not use this file except in compliance with the License.\n",
    "# You may obtain a copy of the License at\n",
    "#\n",
    "#     https://www.apache.org/licenses/LICENSE-2.0\n",
    "#\n",
    "# Unless required by applicable law or agreed to in writing, software\n",
    "# distributed under the License is distributed on an \"AS IS\" BASIS,\n",
    "# WITHOUT WARRANTIES OR CONDITIONS OF ANY KIND, either express or implied.\n",
    "# See the License for the specific language governing permissions and\n",
    "# limitations under the License."
   ]
  },
  {
   "cell_type": "markdown",
   "metadata": {
    "id": "dd53d60c-97eb-4c72-91ea-f274a753ab34"
   },
   "source": [
    "# Supervised Fine Tuning with Gemini 1.5 Pro for Image Captioning\n",
    "\n",
    "Adapted from: [Gemini 1.5 Pro SFT with Image Data on GitHub](https://github.com/GoogleCloudPlatform/generative-ai/blob/main/gemini/tuning/supervised_finetuning_using_gemini_on_image_data.ipynb)\n",
    "\n",
    "Author: [Deepak Moonat](https://github.com/dmoonat)\n",
    "\n",
    "Modified by: [Wan Qi Ang](https://github.com/angwanqi) for 2024 EDB x Google Cloud - Cloud AI Take Off Program"
   ]
  },
  {
   "cell_type": "markdown",
   "metadata": {
    "id": "9ef820fb-1203-4cab-965f-17093a4ba25e"
   },
   "source": [
    "## Overview\n",
    "\n",
    "**Gemini** is a family of generative AI models developed by Google DeepMind that is designed for multimodal use cases. The Gemini API gives you access to the various Gemini models, such as Gemini 1.5 Pro, Gemini 1.0 Pro and more.\n",
    "\n",
    "This notebook demonstrates how to fine-tune the Gemini 1.5 Pro Model for Vision task using the Vertex AI Supervised Tuning feature. Supervised Tuning allows you to use your own training data to further refine the base model's capabilities towards your specific tasks.\n",
    "\n",
    "\n",
    "Supervised Tuning uses labeled examples to tune a model. Each example demonstrates the output you want from your text model during inference.\n",
    "\n",
    "First, ensure your training data is of high quality, well-labeled, and directly relevant to the target task. This is crucial as low-quality data can adversely affect the performance and introduce bias in the fine-tuned model.\n",
    "- Training: Experiment with different configurations to optimize the model's performance on the target task.\n",
    "- Evaluation:\n",
    "  - Metric: Choose appropriate evaluation metrics that accurately reflect the success of the fine-tuned model for your specific task\n",
    "  - Evaluation Set: Use a separate set of data to evaluate the model's performance"
   ]
  },
  {
   "cell_type": "markdown",
   "metadata": {
    "id": "74b00940-376c-4056-90fb-d22c1ce6eedf"
   },
   "source": [
    "### Objective\n",
    "\n",
    "In this tutorial, you will learn how to use `Vertex AI` to tune a `gemini-1.5-pro-002` model on image data.\n",
    "\n",
    "\n",
    "This tutorial uses the following Google Cloud ML services:\n",
    "\n",
    "- `Vertex AI`\n",
    "\n",
    "\n",
    "The steps performed include:\n",
    "\n",
    "- Prepare and load the dataset\n",
    "- Load the `gemini-1.5-pro-002` model\n",
    "- Evaluate the model before tuning\n",
    "- Tune the model.\n",
    "  - This will automatically create a Vertex AI endpoint and deploy the model to it\n",
    "- Evaluate the model after tuning\n",
    "- Make a prediction using tuned model."
   ]
  },
  {
   "cell_type": "markdown",
   "metadata": {
    "id": "c6b43693-b20a-41bd-b5b8-5ad414517162"
   },
   "source": [
    "### Model\n",
    "\n",
    "The pre-trained LLM model is `gemini-1.5-pro-002` for text generation."
   ]
  },
  {
   "cell_type": "markdown",
   "metadata": {
    "id": "X0xdTMs10K7y"
   },
   "source": [
    "### Dataset"
   ]
  },
  {
   "cell_type": "markdown",
   "metadata": {
    "id": "jCMczwd00N9T"
   },
   "source": [
    "Dataset used in this notebook is about image captioning. [Reference](https://ai.google.dev/gemma/docs/paligemma/fine-tuning-paligemma#download_the_model_checkpoint)\n",
    "\n",
    "```\n",
    "Licensed under the Creative Commons Attribution 4.0 License\n",
    "```"
   ]
  },
  {
   "cell_type": "markdown",
   "metadata": {
    "id": "6d7b5435-e947-49bb-9ce3-aa8a42c30118"
   },
   "source": [
    "### Costs\n",
    "\n",
    "This tutorial uses billable components of Google Cloud:\n",
    "\n",
    "* Vertex AI\n",
    "* Cloud Storage\n",
    "\n",
    "Learn about [Vertex AI\n",
    "pricing](https://cloud.google.com/vertex-ai/pricing), [Cloud Storage\n",
    "pricing](https://cloud.google.com/storage/pricing), and use the [Pricing\n",
    "Calculator](https://cloud.google.com/products/calculator/)\n",
    "to generate a cost estimate based on your projected usage."
   ]
  },
  {
   "cell_type": "markdown",
   "metadata": {
    "id": "0cbf01f0-5f6e-4bcd-903f-84ccaad5332c"
   },
   "source": [
    "## Installation\n",
    "Run the cell below if this is your first time running the notebook. Else, feel free to skip the cell below as the libraries would have already been installed. "
   ]
  },
  {
   "cell_type": "code",
   "execution_count": 2,
   "metadata": {
    "id": "MpDAgOsK6kZn",
    "tags": []
   },
   "outputs": [
    {
     "name": "stdout",
     "output_type": "stream",
     "text": [
      "\u001b[33m  WARNING: The script nltk is installed in '/home/jupyter/.local/bin' which is not on PATH.\n",
      "  Consider adding this directory to PATH or, if you prefer to suppress this warning, use --no-warn-script-location.\u001b[0m\u001b[33m\n",
      "\u001b[0mNote: you may need to restart the kernel to use updated packages.\n"
     ]
    }
   ],
   "source": [
    "%pip install --upgrade --user --quiet google-cloud-aiplatform jsonlines rouge_score"
   ]
  },
  {
   "cell_type": "markdown",
   "metadata": {
    "id": "Moror1y0Qq2z"
   },
   "source": [
    "### Restart current runtime\n",
    "To use the newly installed packages in this Jupyter runtime, you must restart the runtime. You can do this by running the cell below, which will restart the current kernel.\n",
    "\n",
    "<div class=\"alert alert-block alert-success\"> \n",
    "<b>NOTE:</b> Only restart the current runtime if you installed libraries. If you did not install new libraries, you do not need to restart the kernel.\n",
    "</div>"
   ]
  },
  {
   "cell_type": "code",
   "execution_count": null,
   "metadata": {
    "id": "4KLm_nKmQtC8"
   },
   "outputs": [],
   "source": [
    "# Restart kernel after installs so that your environment can access the new packages\n",
    "import IPython\n",
    "import time\n",
    "\n",
    "app = IPython.Application.instance()\n",
    "app.kernel.do_shutdown(True)"
   ]
  },
  {
   "cell_type": "markdown",
   "metadata": {
    "id": "dpSnJTbIrFsh"
   },
   "source": [
    "<div class=\"alert alert-block alert-warning\">\n",
    "<b>⚠️ The kernel is going to restart. Please wait until it is finished before continuing to the next step. ⚠️</b>\n",
    "</div>"
   ]
  },
  {
   "cell_type": "markdown",
   "metadata": {
    "id": "b37d4259-7e39-417b-8879-24f7575732c8"
   },
   "source": [
    "## Before you begin\n",
    "\n",
    "### Set your project ID and region"
   ]
  },
  {
   "cell_type": "code",
   "execution_count": 1,
   "metadata": {
    "id": "caaf0d7e-c6cb-4e56-af5c-553db5180e00",
    "tags": []
   },
   "outputs": [
    {
     "name": "stdout",
     "output_type": "stream",
     "text": [
      "Project ID: bb-genai\n",
      "Project Region: us-central1\n"
     ]
    }
   ],
   "source": [
    "PROJECT_ID= !(gcloud config get-value core/project)\n",
    "PROJECT_ID = PROJECT_ID[0]\n",
    "GCP_PROJECT = PROJECT_ID\n",
    "REGION = 'us-central1'\n",
    "\n",
    "print(f\"Project ID:\", PROJECT_ID)\n",
    "print(f\"Project Region:\", REGION)"
   ]
  },
  {
   "cell_type": "markdown",
   "metadata": {
    "id": "czjH2JfKaGfH"
   },
   "source": [
    "#### Bucket\n",
    "\n",
    "<div class=\"alert alert-block alert-info\"> \n",
    "<b>INPUT REQUIRED:</b> Replace <YOUR_NAME> with your name so that you'll be able to identify your Google Cloud Storage bucket later on. <b>Example:</b> BUCKET_PREFIX = \"john\"\n",
    "</div>"
   ]
  },
  {
   "cell_type": "code",
   "execution_count": 5,
   "metadata": {
    "tags": []
   },
   "outputs": [
    {
     "name": "stdout",
     "output_type": "stream",
     "text": [
      "BUCKET_URI: gs://wq-gemini-image-sft\n"
     ]
    }
   ],
   "source": [
    "# Update the bucket prefix with your name\n",
    "PREFIX = \"wq\"\n",
    "\n",
    "# Concatenate to get the full bucket name\n",
    "BUCKET_NAME = PREFIX + \"-gemini-image-sft\"  # @param {type:\"string\"}\n",
    "BUCKET_URI = f\"gs://{BUCKET_NAME}\"\n",
    "print(f\"BUCKET_URI:\", BUCKET_URI)"
   ]
  },
  {
   "cell_type": "markdown",
   "metadata": {
    "id": "e6a924d0-a034-4e53-b240-03d356c7b7a6"
   },
   "source": [
    "### Import libraries"
   ]
  },
  {
   "cell_type": "code",
   "execution_count": 49,
   "metadata": {
    "id": "463729ba-ec3c-4302-95bf-80207b0f9e2d",
    "tags": []
   },
   "outputs": [],
   "source": [
    "import io\n",
    "import time\n",
    "\n",
    "# For visualization.\n",
    "from PIL import Image\n",
    "\n",
    "# For google cloud storage service.\n",
    "from google.cloud import storage\n",
    "\n",
    "# For fine tuning Gemini model.\n",
    "import google.cloud.aiplatform as aiplatform\n",
    "\n",
    "# For data handling.\n",
    "import jsonlines\n",
    "import pandas as pd\n",
    "\n",
    "# For evaluation.\n",
    "from rouge_score import rouge_scorer\n",
    "from tqdm import tqdm\n",
    "from vertexai.preview.generative_models import GenerationConfig, GenerativeModel, Part\n",
    "from vertexai.preview.tuning import sft"
   ]
  },
  {
   "cell_type": "markdown",
   "metadata": {
    "id": "a522acfe-d0b6-4b4e-b201-0a4ccf59b133"
   },
   "source": [
    "## Initialize Vertex AI SDK for Python\n",
    "\n",
    "Initialize the Vertex AI SDK for Python for your project and corresponding bucket."
   ]
  },
  {
   "cell_type": "code",
   "execution_count": 5,
   "metadata": {
    "id": "c845aca6-4f72-4d3b-b9ed-de4a18fcbbf8",
    "tags": []
   },
   "outputs": [],
   "source": [
    "aiplatform.init(project=PROJECT_ID, location=REGION)"
   ]
  },
  {
   "cell_type": "markdown",
   "metadata": {
    "id": "okht6CExcw4d"
   },
   "source": [
    "## Prepare Multimodal Dataset"
   ]
  },
  {
   "cell_type": "markdown",
   "metadata": {
    "id": "8N1QCz0MzyD6"
   },
   "source": [
    "The dataset used to tune a foundation model needs to include examples that align with the task that you want the model to perform."
   ]
  },
  {
   "cell_type": "markdown",
   "metadata": {
    "id": "9yp9SQ1M7FSP"
   },
   "source": [
    "Note:\n",
    "- Only support images and text as input, and text only as output.\n",
    "- Maximum 16 Images per tuning example.\n",
    "- Maximum image file size: 20MB\n",
    "- Image needs to be in `jpeg` or `png` format. Supported mimetypes: `image/jpeg` and `image/png`\n",
    "\n",
    "Input is a jsonl file with each json string being on one line.\n",
    "Each json instance have the format (Expanded for clarity):\n",
    "```\n",
    "{\n",
    "   \"contents\":[\n",
    "      {\n",
    "         \"role\":\"user\",  # This indicate input content\n",
    "         \"parts\":[ # Interleaved image and text, could be in any order.\n",
    "            {\n",
    "               \"fileData\":{ # FileData needs to be reference to image file in gcs. No inline data.\n",
    "                  \"mimeType\":\"image/jpeg\", # Provide the mimeType about this image\n",
    "                  \"fileUri\":\"gs://path/to/image_uri\"\n",
    "               }\n",
    "            }\n",
    "            {\n",
    "               \"text\":\"What is in this image?\"\n",
    "            }\n",
    "         ]\n",
    "      },\n",
    "      {\n",
    "         \"role\":\"model\", # This indicate target content\n",
    "         \"parts\":[ # text only\n",
    "            {\n",
    "               \"text\":\"Something about this image.\"\n",
    "            }\n",
    "         ]\n",
    "      } # Single turn input and response.\n",
    "   ]\n",
    "}\n",
    "```\n",
    "\n",
    "Example:\n",
    "```\n",
    "{\n",
    "   \"contents\":[\n",
    "      {\n",
    "         \"role\":\"user\",\n",
    "         \"parts\":[\n",
    "            {\n",
    "               \"fileData\":{\n",
    "                  \"mimeType\":\"image/jpeg\",\n",
    "                  \"fileUri\":\"gs://bucketname/data/vision_data/task/image_description/image/1.jpeg\"\n",
    "               }\n",
    "            },\n",
    "            {\n",
    "               \"text\":\"Describe this image that captures the essence of it.\"\n",
    "            }\n",
    "         ]\n",
    "      },\n",
    "      {\n",
    "         \"role\":\"model\",\n",
    "         \"parts\":[\n",
    "            {\n",
    "               \"text\":\"A person wearing a pink shirt and a long-sleeved shirt with a large cuff, ....\"\n",
    "            }\n",
    "         ]\n",
    "      }\n",
    "   ]\n",
    "}\n",
    "```\n"
   ]
  },
  {
   "cell_type": "markdown",
   "metadata": {
    "id": "DESw8v4QrLHR"
   },
   "source": [
    "### Data files\n"
   ]
  },
  {
   "cell_type": "markdown",
   "metadata": {
    "id": "uiTVJqMXTvM5"
   },
   "source": [
    "Data used in this notebook is present in the public Google Cloud Storage (GCS) bucket --> `gs://longcap100`.\n",
    "\n",
    "Sample:\n",
    "\n",
    "> {\"prefix\": \"\", \"suffix\": \"A person wearing a pink shirt and a long-sleeved shirt with a large cuff, has their hand on a concrete ledge. The hand is on the edge of the ledge, and the thumb is on the edge of the hand. The shirt has a large cuff, and the sleeve is rolled up. The shadow of the hand is on the wall.\", \"image\": \"91.jpeg\"}\n",
    "\n",
    "\n",
    "\n",
    "- `data_train90.jsonl`: Contains training samples in json lines as shown above\n",
    "- `data_val10.jsonl`: Contains validation samples in json lines as shown above\n",
    "- `images`: Contains 100 images, training and validation data"
   ]
  },
  {
   "cell_type": "markdown",
   "metadata": {
    "id": "MLcuIXlzz36C"
   },
   "source": [
    "To run a tuning job, you need to upload one or more datasets to a Cloud Storage bucket. You can either create a new Cloud Storage bucket or use an existing one to store dataset files. The region of the bucket doesn't matter, but we recommend that you use a bucket that's in the same Google Cloud project where you plan to tune your model."
   ]
  },
  {
   "cell_type": "markdown",
   "metadata": {
    "id": "sfIUgj-mU8K9"
   },
   "source": [
    "### Create a Cloud Storage bucket\n",
    "- Create a storage bucket to store intermediate artifacts such as datasets.\n",
    "- Only if your bucket doesn't already exist: Run the following cell to create your Cloud Storage bucket."
   ]
  },
  {
   "cell_type": "code",
   "execution_count": 45,
   "metadata": {
    "id": "M-L1BH8TU9Gn"
   },
   "outputs": [
    {
     "name": "stdout",
     "output_type": "stream",
     "text": [
      "Creating gs://wq-gemini-image-sft/...\n",
      "ServiceException: 409 A Cloud Storage bucket named 'wq-gemini-image-sft' already exists. Try another name. Bucket names must be globally unique across all Google Cloud projects, including those outside of your organization.\n"
     ]
    }
   ],
   "source": [
    "# Create the GCS bucket\n",
    "!gsutil mb -l {REGION} -p {PROJECT_ID} {BUCKET_URI}"
   ]
  },
  {
   "cell_type": "markdown",
   "metadata": {
    "id": "ZUGi7ZThbChr"
   },
   "source": [
    "### Copy images to specified Bucket"
   ]
  },
  {
   "cell_type": "code",
   "execution_count": 55,
   "metadata": {
    "id": "DHdC-9nj071o",
    "tags": []
   },
   "outputs": [],
   "source": [
    "# Copy the training images into the GCS bucket\n",
    "!gsutil -m -q cp -n -r gs://longcap100/*.jpeg {BUCKET_URI}/images/"
   ]
  },
  {
   "cell_type": "markdown",
   "metadata": {
    "id": "fpyJR6tlVRXh"
   },
   "source": [
    "### Download the training and validation dataset jsonlines files from the bucket.\n",
    "* Verify that the files are in your local directory in the left panel"
   ]
  },
  {
   "cell_type": "code",
   "execution_count": 56,
   "metadata": {
    "id": "peUixIt_2DLP",
    "tags": []
   },
   "outputs": [],
   "source": [
    "# Download the training dataset from the bucket to your workbench local directory\n",
    "!gsutil -m -q cp -n -r gs://longcap100/data_train90.jsonl .\n",
    "\n",
    "# Download the validation dataset from the bucket to your workbench local directory\n",
    "!gsutil -m -q cp -n -r gs://longcap100/data_val10.jsonl ."
   ]
  },
  {
   "cell_type": "markdown",
   "metadata": {
    "id": "a9N-rN7pECKa"
   },
   "source": [
    "### Prepare dataset for Training and Evaluation"
   ]
  },
  {
   "cell_type": "code",
   "execution_count": 50,
   "metadata": {
    "id": "zdVGCwFWsrCB",
    "tags": []
   },
   "outputs": [],
   "source": [
    "# Utility function to save json instances into jsonlines format\n",
    "def save_jsonlines(file, instances):\n",
    "    \"\"\"\n",
    "    Saves a list of json instances to a jsonlines file.\n",
    "    \"\"\"\n",
    "    with jsonlines.open(file, mode=\"w\") as writer:\n",
    "        writer.write_all(instances)\n",
    "\n",
    "        \n",
    "# Function to convert the dataset into Gemini-1.5 tuning format\n",
    "task_prompt = \"Describe this image in detail that captures the essence of it.\"\n",
    "\n",
    "def create_tuning_samples(file_path):\n",
    "    \"\"\"\n",
    "    Creates tuning samples from a file.\n",
    "    \"\"\"\n",
    "    with jsonlines.open(file_path) as reader:\n",
    "        instances = []\n",
    "        for obj in reader:\n",
    "            instance = {\n",
    "                \"contents\": [\n",
    "                    {\n",
    "                        \"role\": \"user\",  # This indicate input content\n",
    "                        \"parts\": [  # Interleaved image and text, could be in any order.\n",
    "                            {\n",
    "                                \"fileData\": {  # FileData needs to be reference to image file in gcs. No inline data.\n",
    "                                    \"mimeType\": \"image/jpeg\",  # Provide the mimeType about this image\n",
    "                                    \"fileUri\": f\"{BUCKET_URI}/images/{obj['image']}\",\n",
    "                                }\n",
    "                            },\n",
    "                            {\"text\": task_prompt},\n",
    "                        ],\n",
    "                    },\n",
    "                    {\n",
    "                        \"role\": \"model\",  # This indicate target content\n",
    "                        \"parts\": [{\"text\": obj[\"suffix\"]}],  # text only\n",
    "                    },  # Single turn input and response.\n",
    "                ]\n",
    "            }\n",
    "            instances.append(instance)\n",
    "    return instances\n",
    "\n",
    "\n",
    "# Function to visualize the query images stored in GCS bucket - read a image bytes file present in GCS bucket\n",
    "def read_image_bytes_from_gcs(bucket_name, blob_name):\n",
    "    \"\"\"Reads image bytes from a GCS bucket.\n",
    "\n",
    "    Args:\n",
    "      bucket_name: The name of the GCS bucket.\n",
    "      blob_name: The name of the blob (file) within the bucket.\n",
    "\n",
    "    Returns:\n",
    "      The image bytes as a bytes object.\n",
    "    \"\"\"\n",
    "\n",
    "    storage_client = storage.Client()\n",
    "    bucket = storage_client.bucket(bucket_name)\n",
    "    blob = bucket.blob(blob_name)\n",
    "\n",
    "    image_bytes = blob.download_as_bytes()\n",
    "\n",
    "    return image_bytes"
   ]
  },
  {
   "cell_type": "markdown",
   "metadata": {
    "id": "tqh6WYHg6X4z"
   },
   "source": [
    "#### Training data"
   ]
  },
  {
   "cell_type": "code",
   "execution_count": 57,
   "metadata": {
    "id": "b685Iy27z1E1",
    "tags": []
   },
   "outputs": [],
   "source": [
    "# Set the filepath to your training data and format the training samples\n",
    "train_file_path = \"data_train90.jsonl\"\n",
    "train_instances = create_tuning_samples(train_file_path)\n",
    "\n",
    "# save the training instances to jsonl file\n",
    "save_jsonlines(\"train.jsonl\", train_instances)"
   ]
  },
  {
   "cell_type": "code",
   "execution_count": 59,
   "metadata": {
    "id": "UC4ULRC46mA-",
    "tags": []
   },
   "outputs": [
    {
     "name": "stdout",
     "output_type": "stream",
     "text": [
      "{'contents': [{'role': 'user', 'parts': [{'fileData': {'mimeType': 'image/jpeg', 'fileUri': 'gs://wq-gemini-image-sft/images/1.jpeg'}}, {'text': 'Describe this image in detail that captures the essence of it.'}]}, {'role': 'model', 'parts': [{'text': \"A brown and white cat with a red collar looks to the left, its eyes shining yellow. The cat's fur is long and silky, and its whiskers are long and prominent. The cat's nose is pink, and its ears are pointy. The cat's eyes are yellow, and its fur is brown and white. The cat is standing in the dark, and its head is turned to the side.\"}]}]}\n"
     ]
    },
    {
     "data": {
      "image/jpeg": "[encoded data removed]",
      "image/png": "[encoded data removed]",
      "text/plain": [
       "<PIL.Image.Image image mode=RGB size=300x300>"
      ]
     },
     "metadata": {},
     "output_type": "display_data"
    }
   ],
   "source": [
    "# Let's look at one of the training sample\n",
    "print(train_instances[0])\n",
    "\n",
    "query_image_uri = train_instances[0][\"contents\"][0][\"parts\"][0][\"fileData\"][\"fileUri\"]\n",
    "blob_name = query_image_uri.replace(f\"{BUCKET_URI}/\", \"\")\n",
    "img = read_image_bytes_from_gcs(BUCKET_NAME, blob_name)\n",
    "\n",
    "# Display image bytes using pil python library\n",
    "image = Image.open(io.BytesIO(img))\n",
    "resized_img = image.resize((300, 300))\n",
    "display(resized_img)"
   ]
  },
  {
   "cell_type": "code",
   "execution_count": 14,
   "metadata": {
    "id": "nyn5Xgw41bhc",
    "tags": []
   },
   "outputs": [
    {
     "name": "stdout",
     "output_type": "stream",
     "text": [
      "Copying file://train.jsonl [Content-Type=application/octet-stream]...\n",
      "/ [1 files][ 50.4 KiB/ 50.4 KiB]                                                \n",
      "Operation completed over 1 objects/50.4 KiB.                                     \n"
     ]
    }
   ],
   "source": [
    "# save the training data to gcs bucket\n",
    "!gsutil cp train.jsonl {BUCKET_URI}/train/"
   ]
  },
  {
   "cell_type": "markdown",
   "metadata": {
    "id": "HLsC3IBL6ZWk"
   },
   "source": [
    "#### Validation data"
   ]
  },
  {
   "cell_type": "code",
   "execution_count": 60,
   "metadata": {
    "id": "LIp0hdag6bS0",
    "tags": []
   },
   "outputs": [],
   "source": [
    "# Set the filepath to your validation data and format the validation samples\n",
    "val_file_path = \"data_val10.jsonl\"\n",
    "val_instances = create_tuning_samples(val_file_path)\n",
    "\n",
    "# save the validation instances to jsonl file\n",
    "save_jsonlines(\"val.jsonl\", val_instances)"
   ]
  },
  {
   "cell_type": "code",
   "execution_count": 61,
   "metadata": {
    "id": "TBTBTx4n6koL",
    "tags": []
   },
   "outputs": [
    {
     "name": "stdout",
     "output_type": "stream",
     "text": [
      "{'contents': [{'role': 'user', 'parts': [{'fileData': {'mimeType': 'image/jpeg', 'fileUri': 'gs://wq-gemini-image-sft/images/91.jpeg'}}, {'text': 'Describe this image in detail that captures the essence of it.'}]}, {'role': 'model', 'parts': [{'text': 'A person wearing a pink shirt and a long-sleeved shirt with a large cuff, has their hand on a concrete ledge. The hand is on the edge of the ledge, and the thumb is on the edge of the hand. The shirt has a large cuff, and the sleeve is rolled up. The shadow of the hand is on the wall.'}]}]}\n"
     ]
    },
    {
     "data": {
      "image/jpeg": "[encoded data removed]",
      "image/png": "[encoded data removed]",
      "text/plain": [
       "<PIL.Image.Image image mode=RGB size=300x300>"
      ]
     },
     "metadata": {},
     "output_type": "display_data"
    }
   ],
   "source": [
    "# Let's look at one of the validation sample\n",
    "print(val_instances[0])\n",
    "\n",
    "query_image_uri = val_instances[0][\"contents\"][0][\"parts\"][0][\"fileData\"][\"fileUri\"]\n",
    "blob_name = query_image_uri.replace(f\"{BUCKET_URI}/\", \"\")\n",
    "img = read_image_bytes_from_gcs(BUCKET_NAME, blob_name)\n",
    "\n",
    "# Display image bytes using pil python library\n",
    "image = Image.open(io.BytesIO(img))\n",
    "resized_img = image.resize((300, 300))\n",
    "display(resized_img)"
   ]
  },
  {
   "cell_type": "code",
   "execution_count": 17,
   "metadata": {
    "id": "xy-6ihNR6gx3",
    "tags": []
   },
   "outputs": [
    {
     "name": "stdout",
     "output_type": "stream",
     "text": [
      "Copying file://val.jsonl [Content-Type=application/octet-stream]...\n",
      "/ [1 files][  5.1 KiB/  5.1 KiB]                                                \n",
      "Operation completed over 1 objects/5.1 KiB.                                      \n"
     ]
    }
   ],
   "source": [
    "# save the validation data to gcs bucket\n",
    "!gsutil cp val.jsonl {BUCKET_URI}/val/"
   ]
  },
  {
   "cell_type": "markdown",
   "metadata": {
    "id": "QhejcJumTAj3"
   },
   "source": [
    "#### Tranforming the JSONL format\n",
    "\n",
    "For the validation dataset, we will need to format the data to the following structure:\n",
    "\n",
    "`\n",
    "[{'file_uri': '<GCS path for query image>',\n",
    " 'ground_truth': '<Ground truth, image description'},\n",
    " ..\n",
    "]\n",
    "`"
   ]
  },
  {
   "cell_type": "code",
   "execution_count": 62,
   "metadata": {
    "id": "uEGTSHPx4aMl",
    "tags": []
   },
   "outputs": [],
   "source": [
    "# Let's format the validation instances into the specified structure\n",
    "data_table = []\n",
    "for instance in val_instances:\n",
    "    data_table.append(\n",
    "        {\n",
    "            \"file_uri\": instance[\"contents\"][0][\"parts\"][0][\"fileData\"][\"fileUri\"],\n",
    "            \"ground_truth\": instance[\"contents\"][1][\"parts\"][0][\"text\"],\n",
    "        }\n",
    "    )"
   ]
  },
  {
   "cell_type": "code",
   "execution_count": 63,
   "metadata": {
    "id": "JB2lp-0c0TA4",
    "tags": []
   },
   "outputs": [
    {
     "data": {
      "text/plain": [
       "{'file_uri': 'gs://wq-gemini-image-sft/images/91.jpeg',\n",
       " 'ground_truth': 'A person wearing a pink shirt and a long-sleeved shirt with a large cuff, has their hand on a concrete ledge. The hand is on the edge of the ledge, and the thumb is on the edge of the hand. The shirt has a large cuff, and the sleeve is rolled up. The shadow of the hand is on the wall.'}"
      ]
     },
     "execution_count": 63,
     "metadata": {},
     "output_type": "execute_result"
    }
   ],
   "source": [
    "# Let's verify that the output is in the correct structure\n",
    "data_table[0]"
   ]
  },
  {
   "cell_type": "code",
   "execution_count": 67,
   "metadata": {
    "id": "B3oaGk0XMsg3",
    "tags": []
   },
   "outputs": [
    {
     "data": {
      "text/html": [
       "<div>\n",
       "<style scoped>\n",
       "    .dataframe tbody tr th:only-of-type {\n",
       "        vertical-align: middle;\n",
       "    }\n",
       "\n",
       "    .dataframe tbody tr th {\n",
       "        vertical-align: top;\n",
       "    }\n",
       "\n",
       "    .dataframe thead th {\n",
       "        text-align: right;\n",
       "    }\n",
       "</style>\n",
       "<table border=\"1\" class=\"dataframe\">\n",
       "  <thead>\n",
       "    <tr style=\"text-align: right;\">\n",
       "      <th></th>\n",
       "      <th>file_uri</th>\n",
       "      <th>ground_truth</th>\n",
       "    </tr>\n",
       "  </thead>\n",
       "  <tbody>\n",
       "    <tr>\n",
       "      <th>0</th>\n",
       "      <td>gs://wq-gemini-image-sft/images/91.jpeg</td>\n",
       "      <td>A person wearing a pink shirt and a long-sleev...</td>\n",
       "    </tr>\n",
       "    <tr>\n",
       "      <th>1</th>\n",
       "      <td>gs://wq-gemini-image-sft/images/92.jpeg</td>\n",
       "      <td>A woman in a floral dress stands on a ledge. T...</td>\n",
       "    </tr>\n",
       "    <tr>\n",
       "      <th>2</th>\n",
       "      <td>gs://wq-gemini-image-sft/images/93.jpeg</td>\n",
       "      <td>A woman in a red jacket and black pants with a...</td>\n",
       "    </tr>\n",
       "    <tr>\n",
       "      <th>3</th>\n",
       "      <td>gs://wq-gemini-image-sft/images/94.jpeg</td>\n",
       "      <td>A woman stands on a set of stone steps, holdin...</td>\n",
       "    </tr>\n",
       "    <tr>\n",
       "      <th>4</th>\n",
       "      <td>gs://wq-gemini-image-sft/images/95.jpeg</td>\n",
       "      <td>A person's hand rests on a pink sweater, adorn...</td>\n",
       "    </tr>\n",
       "    <tr>\n",
       "      <th>5</th>\n",
       "      <td>gs://wq-gemini-image-sft/images/96.jpeg</td>\n",
       "      <td>A man with long, blonde hair and a black sweat...</td>\n",
       "    </tr>\n",
       "    <tr>\n",
       "      <th>6</th>\n",
       "      <td>gs://wq-gemini-image-sft/images/97.jpeg</td>\n",
       "      <td>A white rack with hangers on it. The rack is w...</td>\n",
       "    </tr>\n",
       "    <tr>\n",
       "      <th>7</th>\n",
       "      <td>gs://wq-gemini-image-sft/images/98.jpeg</td>\n",
       "      <td>A white garment hangs on a wooden hanger in a ...</td>\n",
       "    </tr>\n",
       "    <tr>\n",
       "      <th>8</th>\n",
       "      <td>gs://wq-gemini-image-sft/images/99.jpeg</td>\n",
       "      <td>A woman stands on a sidewalk, holding a black ...</td>\n",
       "    </tr>\n",
       "    <tr>\n",
       "      <th>9</th>\n",
       "      <td>gs://wq-gemini-image-sft/images/100.jpeg</td>\n",
       "      <td>A man stands on a road, wearing a blue denim j...</td>\n",
       "    </tr>\n",
       "  </tbody>\n",
       "</table>\n",
       "</div>"
      ],
      "text/plain": [
       "                                   file_uri  \\\n",
       "0   gs://wq-gemini-image-sft/images/91.jpeg   \n",
       "1   gs://wq-gemini-image-sft/images/92.jpeg   \n",
       "2   gs://wq-gemini-image-sft/images/93.jpeg   \n",
       "3   gs://wq-gemini-image-sft/images/94.jpeg   \n",
       "4   gs://wq-gemini-image-sft/images/95.jpeg   \n",
       "5   gs://wq-gemini-image-sft/images/96.jpeg   \n",
       "6   gs://wq-gemini-image-sft/images/97.jpeg   \n",
       "7   gs://wq-gemini-image-sft/images/98.jpeg   \n",
       "8   gs://wq-gemini-image-sft/images/99.jpeg   \n",
       "9  gs://wq-gemini-image-sft/images/100.jpeg   \n",
       "\n",
       "                                        ground_truth  \n",
       "0  A person wearing a pink shirt and a long-sleev...  \n",
       "1  A woman in a floral dress stands on a ledge. T...  \n",
       "2  A woman in a red jacket and black pants with a...  \n",
       "3  A woman stands on a set of stone steps, holdin...  \n",
       "4  A person's hand rests on a pink sweater, adorn...  \n",
       "5  A man with long, blonde hair and a black sweat...  \n",
       "6  A white rack with hangers on it. The rack is w...  \n",
       "7  A white garment hangs on a wooden hanger in a ...  \n",
       "8  A woman stands on a sidewalk, holding a black ...  \n",
       "9  A man stands on a road, wearing a blue denim j...  "
      ]
     },
     "execution_count": 67,
     "metadata": {},
     "output_type": "execute_result"
    }
   ],
   "source": [
    "# The `data_table` is converted into dataframe of two columns, file_uri and ground_truth. The `ground_truth` will be compared with the model generated output\n",
    "\n",
    "val_df = pd.DataFrame(data_table)\n",
    "val_df"
   ]
  },
  {
   "cell_type": "markdown",
   "metadata": {
    "id": "iUweYYURlDg5"
   },
   "source": [
    "Total `10` instances in validation data"
   ]
  },
  {
   "cell_type": "markdown",
   "metadata": {
    "id": "2tV6nWuD59-H"
   },
   "source": [
    "## Evaluating Gemini 1.5 Pro: Pre-Tuning"
   ]
  },
  {
   "cell_type": "code",
   "execution_count": 22,
   "metadata": {
    "id": "2DLk7RYYPhi0",
    "tags": []
   },
   "outputs": [],
   "source": [
    "# Load the `gemini-1.5-pro-002` model\n",
    "base_model = \"gemini-1.5-pro-002\"\n",
    "generation_model = GenerativeModel(base_model)"
   ]
  },
  {
   "cell_type": "markdown",
   "metadata": {
    "id": "usabcedw0EVT"
   },
   "source": [
    "### Generation config\n",
    "\n",
    "- Each call that you send to a model includes parameter values that control how the model generates a response. The model can generate different results for different parameter values\n",
    "- <strong>Experiment</strong> with different parameter values to get the best values for the task\n",
    "\n",
    "Refer to the following [link](https://cloud.google.com/vertex-ai/generative-ai/docs/learn/prompts/adjust-parameter-values) for understanding different parameters"
   ]
  },
  {
   "cell_type": "markdown",
   "metadata": {
    "id": "zUx23W_r0F8z"
   },
   "source": [
    "**Prompt** is a natural language request submitted to a language model to receive a response back\n",
    "\n",
    "Some best practices include\n",
    "  - Clearly communicate what content or information is most important\n",
    "  - Structure the prompt:\n",
    "    - Defining the role if using one. For example, You are an experienced UX designer at a top tech company\n",
    "    - Include context and input data\n",
    "    - Provide the instructions to the model\n",
    "    - Add example(s) if you are using them\n",
    "\n",
    "Refer to the following [link](https://cloud.google.com/vertex-ai/generative-ai/docs/learn/prompts/prompt-design-strategies) for prompt design strategies."
   ]
  },
  {
   "cell_type": "markdown",
   "metadata": {
    "id": "uuKHRy2OVX0w"
   },
   "source": [
    "### Task"
   ]
  },
  {
   "cell_type": "markdown",
   "metadata": {
    "id": "U-YD1J3VTSoI"
   },
   "source": [
    "***Task prompt:***\n",
    "\n",
    "`\n",
    "\"<image>, Describe this image that captures the essence of it. \"\n",
    "`"
   ]
  },
  {
   "cell_type": "markdown",
   "metadata": {
    "id": "zTZS4IJMTVR1"
   },
   "source": [
    "***Query Image (image)***\n"
   ]
  },
  {
   "cell_type": "code",
   "execution_count": 23,
   "metadata": {
    "id": "-Ry2IjT2TWwd",
    "tags": []
   },
   "outputs": [
    {
     "data": {
      "image/jpeg": "[encoded data removed]",
      "image/png": "[encoded data removed]",
      "text/plain": [
       "<PIL.Image.Image image mode=RGB size=300x300>"
      ]
     },
     "metadata": {},
     "output_type": "display_data"
    }
   ],
   "source": [
    "query_image_uri = val_instances[0][\"contents\"][0][\"parts\"][0][\"fileData\"][\"fileUri\"]\n",
    "blob_name = query_image_uri.replace(f\"{BUCKET_URI}/\", \"\")\n",
    "img = read_image_bytes_from_gcs(BUCKET_NAME, blob_name)\n",
    "\n",
    "# Display image bytes using pil python library\n",
    "image = Image.open(io.BytesIO(img))\n",
    "resized_img = image.resize((300, 300))\n",
    "display(resized_img)"
   ]
  },
  {
   "cell_type": "markdown",
   "metadata": {
    "id": "04lAlLK53IYS"
   },
   "source": [
    "### Testing on single instance\n",
    "#### Gemini 1.5 Pro's response\n",
    "<b>Prompt used:</b> Describe this image that captures the essence of it."
   ]
  },
  {
   "cell_type": "code",
   "execution_count": 24,
   "metadata": {
    "id": "-MeiP8z-o6qt",
    "tags": []
   },
   "outputs": [
    {
     "name": "stdout",
     "output_type": "stream",
     "text": [
      "The image presents a close-up, slightly low-angle view of a person's arm and hand resting on a white, textured surface, likely a wall or step.  The focus is on the unique sleeve of the garment and the interplay of light and shadow.\n",
      "\n",
      "Here's a breakdown of the key elements:\n",
      "\n",
      "* **Sleeve:** The sleeve is a light, dusty rose or peach color, made of a sheer, delicate fabric that gathers and bunches into voluminous, rounded folds around the wrist. It creates a dramatic, flowing effect. The fabric appears lightweight and slightly translucent, allowing some light to pass through.\n",
      "* **Hand:** A darker-skinned hand rests gently on the white surface. The fingers are relaxed and slightly curved, and the nails appear to have a neutral or pale polish.\n",
      "* **Wall/Surface:** The white surface against which the arm and hand are placed has a rough, slightly uneven texture, possibly stucco or concrete. The bright sunlight casts a distinct shadow of the hand and sleeve onto the surface.\n",
      "* **Light and Shadow:** The strong sunlight is a defining feature of the image. It highlights the texture of both the fabric and the wall, creating a contrast between the soft, flowing material and the hard, angular surface. The shadows add depth and dimension to the composition.\n",
      "* **Color Palette:** The image uses a limited color palette of muted tones: the soft peach of the sleeve, the darker brown of the skin, and the bright white of the wall. This creates a sense of calm and serenity.\n",
      "* **Composition:** The image is cropped tightly, focusing on the sleeve, hand, and the edge of the wall. This close cropping emphasizes the textures and the contrast between the elements.\n",
      "\n",
      "The overall impression is one of elegant simplicity and quiet sophistication. The image evokes a sense of warmth and tranquility, thanks to the soft colors, natural light, and the gentle pose of the hand. It could be interpreted as a fashion detail shot, a minimalist portrait, or even an abstract study of light and texture.\n"
     ]
    }
   ],
   "source": [
    "response = generation_model.generate_content(\n",
    "    contents=[\n",
    "        Part.from_uri(query_image_uri, \"image/jpeg\"),\n",
    "        \"Describe this image that captures the essence of it.\",\n",
    "    ],\n",
    "    # Optional config\n",
    "    generation_config=GenerationConfig(\n",
    "        temperature=0.0,\n",
    "    ),\n",
    ")\n",
    "\n",
    "print(response.text.strip())"
   ]
  },
  {
   "cell_type": "markdown",
   "metadata": {
    "id": "5LISwh5_4R1U"
   },
   "source": [
    "#### Ground truth"
   ]
  },
  {
   "cell_type": "code",
   "execution_count": 25,
   "metadata": {
    "id": "aGXbUVK-3lO5",
    "tags": []
   },
   "outputs": [
    {
     "data": {
      "text/plain": [
       "'A person wearing a pink shirt and a long-sleeved shirt with a large cuff, has their hand on a concrete ledge. The hand is on the edge of the ledge, and the thumb is on the edge of the hand. The shirt has a large cuff, and the sleeve is rolled up. The shadow of the hand is on the wall.'"
      ]
     },
     "execution_count": 25,
     "metadata": {},
     "output_type": "execute_result"
    }
   ],
   "source": [
    "val_instances[0][\"contents\"][1][\"parts\"][0][\"text\"]"
   ]
  },
  {
   "cell_type": "markdown",
   "metadata": {
    "id": "MRVAwGLB6KUX"
   },
   "source": [
    "#### Change prompt to get detailed description for the provided image\n",
    "* <b>Old prompt used:</b> Describe this image that captures the essence of it.\n",
    "* <b>New prompt used:</b> Describe this image in <b>detail</b> that captures the essence of it."
   ]
  },
  {
   "cell_type": "code",
   "execution_count": 26,
   "metadata": {
    "id": "JO-C5BAVsdfd",
    "tags": []
   },
   "outputs": [
    {
     "name": "stdout",
     "output_type": "stream",
     "text": [
      "Close-up, slightly low-angle view of a person's arm and hand resting on a white surface, with the main focus on the voluminous, gathered sleeve of their garment. \n",
      "\n",
      "\n",
      "The sleeve is a light, dusty rose or peach color, made of a sheer, delicate fabric that bunches into soft folds and creates a dramatic, puffy effect.  It appears to be gathered tightly at the wrist, just above the hand, and then expands outward toward the elbow.  The fabric of the sleeve is translucent enough to allow some light to pass through, revealing subtle variations in color and texture. \n",
      "\n",
      "\n",
      "The hand resting on the white surface is medium-toned with long, slender fingers.  The nails are painted a pale, neutral color, close to the skin tone.  The hand is relaxed, with the fingers slightly curved. \n",
      "\n",
      "\n",
      "The white surface the hand rests on appears to be a wall or ledge with a textured, slightly rough surface.  The light source is strong and comes from above, casting shadows from the hand and sleeve onto the white surface.  The background behind the arm is also a light, neutral color, similar to the wall but possibly smoother in texture.  The overall impression is one of soft, elegant textures and warm, natural light.\n"
     ]
    }
   ],
   "source": [
    "response = generation_model.generate_content(\n",
    "    contents=[\n",
    "        Part.from_uri(query_image_uri, \"image/jpeg\"),\n",
    "        \"Describe this image in detail that captures the essence of it.\",\n",
    "    ],\n",
    "    # Optional config\n",
    "    generation_config=GenerationConfig(\n",
    "        temperature=0.0,\n",
    "    ),\n",
    ")\n",
    "\n",
    "print(response.text.strip())"
   ]
  },
  {
   "cell_type": "markdown",
   "metadata": {
    "id": "snYSjdzCVjGA"
   },
   "source": [
    "## Evaluation before model tuning\n",
    "Evaluate the Gemini model on the validation dataset before tuning it on the training dataset."
   ]
  },
  {
   "cell_type": "markdown",
   "metadata": {
    "tags": []
   },
   "source": [
    "### Utility Functions"
   ]
  },
  {
   "cell_type": "code",
   "execution_count": 27,
   "metadata": {
    "id": "otIRm3XBwQnW",
    "tags": []
   },
   "outputs": [],
   "source": [
    "def get_prediction(query_image, generation_model):\n",
    "    \"\"\"Gets the prediction for a given instance.\n",
    "\n",
    "    Args:\n",
    "      query_image: The path to the query image.\n",
    "      candidates: A list of paths to the candidate images.\n",
    "      generation_model: The generation model to use for prediction.\n",
    "\n",
    "    Returns:\n",
    "      A string containing the prediction.\n",
    "    \"\"\"\n",
    "    response = generation_model.generate_content(\n",
    "        contents=[Part.from_uri(query_image, \"image/jpeg\"), task_prompt],\n",
    "        # Optional config\n",
    "        generation_config=GenerationConfig(\n",
    "            temperature=0.0,\n",
    "        ),\n",
    "    )\n",
    "\n",
    "    return response.text.strip()\n",
    "\n",
    "def run_eval(val_df, model=generation_model):\n",
    "    \"\"\"Runs evaluation on the validation dataset.\n",
    "\n",
    "    Args:\n",
    "      val_df: The validation dataframe.\n",
    "      generation_model: The generation model to use for evaluation.\n",
    "\n",
    "    Returns:\n",
    "      A list of predictions on val_df.\n",
    "    \"\"\"\n",
    "    predictions = []\n",
    "    for i, row in tqdm(val_df.iterrows(), total=val_df.shape[0]):\n",
    "        try:\n",
    "            prediction = get_prediction(row[\"file_uri\"], model)\n",
    "        except:\n",
    "            time.sleep(30)\n",
    "            prediction = get_prediction(row[\"file_uri\"], model)\n",
    "        predictions.append(prediction)\n",
    "        time.sleep(1)\n",
    "    return predictions"
   ]
  },
  {
   "cell_type": "markdown",
   "metadata": {},
   "source": [
    "### Evaluating pre-tuned Gemini 1.5 Pro on the validation dataset"
   ]
  },
  {
   "cell_type": "markdown",
   "metadata": {
    "id": "0LunPnr5Tvce"
   },
   "source": [
    "<div class=\"alert alert-block alert-warning\">\n",
    "<b>⚠️ It will take 1-2 mins for the model to generate predictions on the provided validation dataset. ⚠️</b>\n",
    "</div>"
   ]
  },
  {
   "cell_type": "code",
   "execution_count": 29,
   "metadata": {
    "id": "Y2Uy75youUor",
    "tags": []
   },
   "outputs": [
    {
     "name": "stderr",
     "output_type": "stream",
     "text": [
      "100%|██████████| 10/10 [01:15<00:00,  7.58s/it]"
     ]
    },
    {
     "name": "stdout",
     "output_type": "stream",
     "text": [
      "CPU times: user 125 ms, sys: 46.6 ms, total: 171 ms\n",
      "Wall time: 1min 15s\n"
     ]
    },
    {
     "name": "stderr",
     "output_type": "stream",
     "text": [
      "\n"
     ]
    }
   ],
   "source": [
    "%%time\n",
    "predictions = run_eval(val_df, model=generation_model)"
   ]
  },
  {
   "cell_type": "code",
   "execution_count": 31,
   "metadata": {
    "id": "N22X-_V5mlev",
    "tags": []
   },
   "outputs": [],
   "source": [
    "val_df.loc[:, \"basePredictions\"] = predictions"
   ]
  },
  {
   "cell_type": "code",
   "execution_count": 32,
   "metadata": {
    "id": "bzA_YLSQ67Jc",
    "tags": []
   },
   "outputs": [
    {
     "data": {
      "text/html": [
       "<div>\n",
       "<style scoped>\n",
       "    .dataframe tbody tr th:only-of-type {\n",
       "        vertical-align: middle;\n",
       "    }\n",
       "\n",
       "    .dataframe tbody tr th {\n",
       "        vertical-align: top;\n",
       "    }\n",
       "\n",
       "    .dataframe thead th {\n",
       "        text-align: right;\n",
       "    }\n",
       "</style>\n",
       "<table border=\"1\" class=\"dataframe\">\n",
       "  <thead>\n",
       "    <tr style=\"text-align: right;\">\n",
       "      <th></th>\n",
       "      <th>file_uri</th>\n",
       "      <th>ground_truth</th>\n",
       "      <th>basePredictions</th>\n",
       "    </tr>\n",
       "  </thead>\n",
       "  <tbody>\n",
       "    <tr>\n",
       "      <th>0</th>\n",
       "      <td>gs://gemini-image-sft/images/91.jpeg</td>\n",
       "      <td>A person wearing a pink shirt and a long-sleev...</td>\n",
       "      <td>Close-up, slightly low-angle view of a person'...</td>\n",
       "    </tr>\n",
       "    <tr>\n",
       "      <th>1</th>\n",
       "      <td>gs://gemini-image-sft/images/92.jpeg</td>\n",
       "      <td>A woman in a floral dress stands on a ledge. T...</td>\n",
       "      <td>Close-up, slightly low-angle view of a woman's...</td>\n",
       "    </tr>\n",
       "    <tr>\n",
       "      <th>2</th>\n",
       "      <td>gs://gemini-image-sft/images/93.jpeg</td>\n",
       "      <td>A woman in a red jacket and black pants with a...</td>\n",
       "      <td>Close-up, slightly low-angle view of a person ...</td>\n",
       "    </tr>\n",
       "    <tr>\n",
       "      <th>3</th>\n",
       "      <td>gs://gemini-image-sft/images/94.jpeg</td>\n",
       "      <td>A woman stands on a set of stone steps, holdin...</td>\n",
       "      <td>Close-up, slightly low-angle view of a person'...</td>\n",
       "    </tr>\n",
       "    <tr>\n",
       "      <th>4</th>\n",
       "      <td>gs://gemini-image-sft/images/95.jpeg</td>\n",
       "      <td>A person's hand rests on a pink sweater, adorn...</td>\n",
       "      <td>This overhead close-up shot captures a casuall...</td>\n",
       "    </tr>\n",
       "    <tr>\n",
       "      <th>5</th>\n",
       "      <td>gs://gemini-image-sft/images/96.jpeg</td>\n",
       "      <td>A man with long, blonde hair and a black sweat...</td>\n",
       "      <td>Close-up, slightly low-angle view of a person,...</td>\n",
       "    </tr>\n",
       "    <tr>\n",
       "      <th>6</th>\n",
       "      <td>gs://gemini-image-sft/images/97.jpeg</td>\n",
       "      <td>A white rack with hangers on it. The rack is w...</td>\n",
       "      <td>Close-up, slightly low-angle view of a section...</td>\n",
       "    </tr>\n",
       "    <tr>\n",
       "      <th>7</th>\n",
       "      <td>gs://gemini-image-sft/images/98.jpeg</td>\n",
       "      <td>A white garment hangs on a wooden hanger in a ...</td>\n",
       "      <td>Close-up, slightly low-angle view of clothing ...</td>\n",
       "    </tr>\n",
       "    <tr>\n",
       "      <th>8</th>\n",
       "      <td>gs://gemini-image-sft/images/99.jpeg</td>\n",
       "      <td>A woman stands on a sidewalk, holding a black ...</td>\n",
       "      <td>Close-up, slightly low-angle view of a person'...</td>\n",
       "    </tr>\n",
       "    <tr>\n",
       "      <th>9</th>\n",
       "      <td>gs://gemini-image-sft/images/100.jpeg</td>\n",
       "      <td>A man stands on a road, wearing a blue denim j...</td>\n",
       "      <td>Close-up, slightly low-angle view of a person'...</td>\n",
       "    </tr>\n",
       "  </tbody>\n",
       "</table>\n",
       "</div>"
      ],
      "text/plain": [
       "                                file_uri  \\\n",
       "0   gs://gemini-image-sft/images/91.jpeg   \n",
       "1   gs://gemini-image-sft/images/92.jpeg   \n",
       "2   gs://gemini-image-sft/images/93.jpeg   \n",
       "3   gs://gemini-image-sft/images/94.jpeg   \n",
       "4   gs://gemini-image-sft/images/95.jpeg   \n",
       "5   gs://gemini-image-sft/images/96.jpeg   \n",
       "6   gs://gemini-image-sft/images/97.jpeg   \n",
       "7   gs://gemini-image-sft/images/98.jpeg   \n",
       "8   gs://gemini-image-sft/images/99.jpeg   \n",
       "9  gs://gemini-image-sft/images/100.jpeg   \n",
       "\n",
       "                                        ground_truth  \\\n",
       "0  A person wearing a pink shirt and a long-sleev...   \n",
       "1  A woman in a floral dress stands on a ledge. T...   \n",
       "2  A woman in a red jacket and black pants with a...   \n",
       "3  A woman stands on a set of stone steps, holdin...   \n",
       "4  A person's hand rests on a pink sweater, adorn...   \n",
       "5  A man with long, blonde hair and a black sweat...   \n",
       "6  A white rack with hangers on it. The rack is w...   \n",
       "7  A white garment hangs on a wooden hanger in a ...   \n",
       "8  A woman stands on a sidewalk, holding a black ...   \n",
       "9  A man stands on a road, wearing a blue denim j...   \n",
       "\n",
       "                                     basePredictions  \n",
       "0  Close-up, slightly low-angle view of a person'...  \n",
       "1  Close-up, slightly low-angle view of a woman's...  \n",
       "2  Close-up, slightly low-angle view of a person ...  \n",
       "3  Close-up, slightly low-angle view of a person'...  \n",
       "4  This overhead close-up shot captures a casuall...  \n",
       "5  Close-up, slightly low-angle view of a person,...  \n",
       "6  Close-up, slightly low-angle view of a section...  \n",
       "7  Close-up, slightly low-angle view of clothing ...  \n",
       "8  Close-up, slightly low-angle view of a person'...  \n",
       "9  Close-up, slightly low-angle view of a person'...  "
      ]
     },
     "execution_count": 32,
     "metadata": {},
     "output_type": "execute_result"
    }
   ],
   "source": [
    "val_df"
   ]
  },
  {
   "cell_type": "markdown",
   "metadata": {
    "id": "nbPYwzNVWgz-"
   },
   "source": [
    "### Evaluation metric"
   ]
  },
  {
   "cell_type": "markdown",
   "metadata": {
    "id": "mvqIYHNCWigP"
   },
   "source": [
    "The type of metrics used for evaluation depends on the task that you are evaluating. The following table shows the supported tasks and the metrics used to evaluate each task:\n",
    "\n",
    "| Task             | Metric(s)                     |\n",
    "|-----------------|---------------------------------|\n",
    "| Classification   | Micro-F1, Macro-F1, Per class F1 |\n",
    "| Summarization    | ROUGE-L                         |\n",
    "| Question Answering | Exact Match                     |\n",
    "| Text Generation  | BLEU, ROUGE-L                   |\n"
   ]
  },
  {
   "cell_type": "markdown",
   "metadata": {
    "id": "BTkLeYDJWre1"
   },
   "source": [
    "For this task, we'll using ROUGE metric.\n",
    "\n",
    "- **Recall-Oriented Understudy for Gisting Evaluation (ROUGE)**: A metric used to evaluate the quality of automatic summaries of text. It works by comparing a generated summary to a set of reference summaries created by humans."
   ]
  },
  {
   "cell_type": "markdown",
   "metadata": {
    "id": "TIlOr8KFWzqt"
   },
   "source": [
    "Now you can take the candidate and reference to evaluate the performance. In this case, ROUGE will give you:\n",
    "\n",
    "- `rouge-1`, which measures unigram overlap\n",
    "- `rouge-2`, which measures bigram overlap\n",
    "- `rouge-l`, which measures the longest common subsequence"
   ]
  },
  {
   "cell_type": "markdown",
   "metadata": {
    "id": "sIVb60EaW2oW"
   },
   "source": [
    "- *Recall vs. Precision*\n",
    "\n",
    "    **Recall**, meaning it prioritizes how much of the information in the reference summaries is captured in the generated summary.\n",
    "\n",
    "    **Precision**, which measures how much of the generated summary is relevant to the original text."
   ]
  },
  {
   "cell_type": "markdown",
   "metadata": {
    "id": "rDwfndw9OAW9"
   },
   "source": [
    "- Initialize `rouge_score` object"
   ]
  },
  {
   "cell_type": "code",
   "execution_count": 33,
   "metadata": {
    "id": "1SEVHIrk69kj",
    "tags": []
   },
   "outputs": [],
   "source": [
    "scorer = rouge_scorer.RougeScorer([\"rouge1\", \"rouge2\", \"rougeL\"], use_stemmer=True)"
   ]
  },
  {
   "cell_type": "markdown",
   "metadata": {
    "id": "_X9vv_gMORkr"
   },
   "source": [
    "- Define function to calculate rouge score"
   ]
  },
  {
   "cell_type": "code",
   "execution_count": 34,
   "metadata": {
    "id": "P6C6EkvFOQzW",
    "tags": []
   },
   "outputs": [],
   "source": [
    "def get_rouge_score(groundTruth, prediction):\n",
    "    \"\"\"Function to compute rouge score.\n",
    "\n",
    "    Args:\n",
    "      groundTruth: The ground truth text.\n",
    "      prediction: The predicted text.\n",
    "    Returns:\n",
    "      The rouge score.\n",
    "    \"\"\"\n",
    "    scores = scorer.score(target=groundTruth, prediction=prediction)\n",
    "    return scores"
   ]
  },
  {
   "cell_type": "markdown",
   "metadata": {
    "id": "J6qBe-Mbtem_"
   },
   "source": [
    "- Single instance evaluation"
   ]
  },
  {
   "cell_type": "code",
   "execution_count": 35,
   "metadata": {
    "id": "BtP0f3GO7zG7",
    "tags": []
   },
   "outputs": [
    {
     "data": {
      "text/plain": [
       "{'rouge1': Score(precision=0.2393617021276596, recall=0.7258064516129032, fmeasure=0.36000000000000004),\n",
       " 'rouge2': Score(precision=0.06951871657754011, recall=0.21311475409836064, fmeasure=0.10483870967741936),\n",
       " 'rougeL': Score(precision=0.15425531914893617, recall=0.46774193548387094, fmeasure=0.232)}"
      ]
     },
     "execution_count": 35,
     "metadata": {},
     "output_type": "execute_result"
    }
   ],
   "source": [
    "get_rouge_score(val_df.loc[0, \"ground_truth\"], val_df.loc[0, \"basePredictions\"])"
   ]
  },
  {
   "cell_type": "code",
   "execution_count": 36,
   "metadata": {
    "id": "3zl1PpGA9oWE",
    "tags": []
   },
   "outputs": [],
   "source": [
    "def calculate_metrics(val_df, prediction_col=\"basePredictions\"):\n",
    "    \"\"\"Function to compute rouge scores for all instances in the validation dataset.\n",
    "    Args:\n",
    "      val_df: The validation dataframe.\n",
    "      prediction_col: The column name of the predictions.\n",
    "    Returns:\n",
    "      A dataframe containing the rouge scores.\n",
    "    \"\"\"\n",
    "    records = []\n",
    "    for row, instance in val_df.iterrows():\n",
    "        scores = get_rouge_score(instance[\"ground_truth\"], instance[prediction_col])\n",
    "        records.append(\n",
    "            {\n",
    "                \"rouge1_precision\": scores.get(\"rouge1\").precision,\n",
    "                \"rouge1_recall\": scores.get(\"rouge1\").recall,\n",
    "                \"rouge1_fmeasure\": scores.get(\"rouge1\").fmeasure,\n",
    "                \"rouge2_precision\": scores.get(\"rouge2\").precision,\n",
    "                \"rouge2_recall\": scores.get(\"rouge2\").recall,\n",
    "                \"rouge2_fmeasure\": scores.get(\"rouge2\").fmeasure,\n",
    "                \"rougeL_precision\": scores.get(\"rougeL\").precision,\n",
    "                \"rougeL_recall\": scores.get(\"rougeL\").recall,\n",
    "                \"rougeL_fmeasure\": scores.get(\"rougeL\").fmeasure,\n",
    "            }\n",
    "        )\n",
    "    metrics = pd.DataFrame(records)\n",
    "    return metrics"
   ]
  },
  {
   "cell_type": "code",
   "execution_count": 37,
   "metadata": {
    "id": "SS2UrB9g8NBt",
    "tags": []
   },
   "outputs": [
    {
     "data": {
      "text/html": [
       "<div>\n",
       "<style scoped>\n",
       "    .dataframe tbody tr th:only-of-type {\n",
       "        vertical-align: middle;\n",
       "    }\n",
       "\n",
       "    .dataframe tbody tr th {\n",
       "        vertical-align: top;\n",
       "    }\n",
       "\n",
       "    .dataframe thead th {\n",
       "        text-align: right;\n",
       "    }\n",
       "</style>\n",
       "<table border=\"1\" class=\"dataframe\">\n",
       "  <thead>\n",
       "    <tr style=\"text-align: right;\">\n",
       "      <th></th>\n",
       "      <th>rouge1_precision</th>\n",
       "      <th>rouge1_recall</th>\n",
       "      <th>rouge1_fmeasure</th>\n",
       "      <th>rouge2_precision</th>\n",
       "      <th>rouge2_recall</th>\n",
       "      <th>rouge2_fmeasure</th>\n",
       "      <th>rougeL_precision</th>\n",
       "      <th>rougeL_recall</th>\n",
       "      <th>rougeL_fmeasure</th>\n",
       "    </tr>\n",
       "  </thead>\n",
       "  <tbody>\n",
       "    <tr>\n",
       "      <th>0</th>\n",
       "      <td>0.239362</td>\n",
       "      <td>0.725806</td>\n",
       "      <td>0.360000</td>\n",
       "      <td>0.069519</td>\n",
       "      <td>0.213115</td>\n",
       "      <td>0.104839</td>\n",
       "      <td>0.154255</td>\n",
       "      <td>0.467742</td>\n",
       "      <td>0.232000</td>\n",
       "    </tr>\n",
       "    <tr>\n",
       "      <th>1</th>\n",
       "      <td>0.333333</td>\n",
       "      <td>0.771930</td>\n",
       "      <td>0.465608</td>\n",
       "      <td>0.122137</td>\n",
       "      <td>0.285714</td>\n",
       "      <td>0.171123</td>\n",
       "      <td>0.174242</td>\n",
       "      <td>0.403509</td>\n",
       "      <td>0.243386</td>\n",
       "    </tr>\n",
       "    <tr>\n",
       "      <th>2</th>\n",
       "      <td>0.095694</td>\n",
       "      <td>0.714286</td>\n",
       "      <td>0.168776</td>\n",
       "      <td>0.033654</td>\n",
       "      <td>0.259259</td>\n",
       "      <td>0.059574</td>\n",
       "      <td>0.076555</td>\n",
       "      <td>0.571429</td>\n",
       "      <td>0.135021</td>\n",
       "    </tr>\n",
       "    <tr>\n",
       "      <th>3</th>\n",
       "      <td>0.240838</td>\n",
       "      <td>0.730159</td>\n",
       "      <td>0.362205</td>\n",
       "      <td>0.063158</td>\n",
       "      <td>0.193548</td>\n",
       "      <td>0.095238</td>\n",
       "      <td>0.146597</td>\n",
       "      <td>0.444444</td>\n",
       "      <td>0.220472</td>\n",
       "    </tr>\n",
       "    <tr>\n",
       "      <th>4</th>\n",
       "      <td>0.133333</td>\n",
       "      <td>0.666667</td>\n",
       "      <td>0.222222</td>\n",
       "      <td>0.015464</td>\n",
       "      <td>0.078947</td>\n",
       "      <td>0.025862</td>\n",
       "      <td>0.097436</td>\n",
       "      <td>0.487179</td>\n",
       "      <td>0.162393</td>\n",
       "    </tr>\n",
       "    <tr>\n",
       "      <th>5</th>\n",
       "      <td>0.156069</td>\n",
       "      <td>0.658537</td>\n",
       "      <td>0.252336</td>\n",
       "      <td>0.011628</td>\n",
       "      <td>0.050000</td>\n",
       "      <td>0.018868</td>\n",
       "      <td>0.104046</td>\n",
       "      <td>0.439024</td>\n",
       "      <td>0.168224</td>\n",
       "    </tr>\n",
       "    <tr>\n",
       "      <th>6</th>\n",
       "      <td>0.164835</td>\n",
       "      <td>0.810811</td>\n",
       "      <td>0.273973</td>\n",
       "      <td>0.055249</td>\n",
       "      <td>0.277778</td>\n",
       "      <td>0.092166</td>\n",
       "      <td>0.120879</td>\n",
       "      <td>0.594595</td>\n",
       "      <td>0.200913</td>\n",
       "    </tr>\n",
       "    <tr>\n",
       "      <th>7</th>\n",
       "      <td>0.316770</td>\n",
       "      <td>0.680000</td>\n",
       "      <td>0.432203</td>\n",
       "      <td>0.106250</td>\n",
       "      <td>0.229730</td>\n",
       "      <td>0.145299</td>\n",
       "      <td>0.186335</td>\n",
       "      <td>0.400000</td>\n",
       "      <td>0.254237</td>\n",
       "    </tr>\n",
       "    <tr>\n",
       "      <th>8</th>\n",
       "      <td>0.276596</td>\n",
       "      <td>0.666667</td>\n",
       "      <td>0.390977</td>\n",
       "      <td>0.069519</td>\n",
       "      <td>0.168831</td>\n",
       "      <td>0.098485</td>\n",
       "      <td>0.154255</td>\n",
       "      <td>0.371795</td>\n",
       "      <td>0.218045</td>\n",
       "    </tr>\n",
       "    <tr>\n",
       "      <th>9</th>\n",
       "      <td>0.201754</td>\n",
       "      <td>0.666667</td>\n",
       "      <td>0.309764</td>\n",
       "      <td>0.044053</td>\n",
       "      <td>0.147059</td>\n",
       "      <td>0.067797</td>\n",
       "      <td>0.114035</td>\n",
       "      <td>0.376812</td>\n",
       "      <td>0.175084</td>\n",
       "    </tr>\n",
       "  </tbody>\n",
       "</table>\n",
       "</div>"
      ],
      "text/plain": [
       "   rouge1_precision  rouge1_recall  rouge1_fmeasure  rouge2_precision  \\\n",
       "0          0.239362       0.725806         0.360000          0.069519   \n",
       "1          0.333333       0.771930         0.465608          0.122137   \n",
       "2          0.095694       0.714286         0.168776          0.033654   \n",
       "3          0.240838       0.730159         0.362205          0.063158   \n",
       "4          0.133333       0.666667         0.222222          0.015464   \n",
       "5          0.156069       0.658537         0.252336          0.011628   \n",
       "6          0.164835       0.810811         0.273973          0.055249   \n",
       "7          0.316770       0.680000         0.432203          0.106250   \n",
       "8          0.276596       0.666667         0.390977          0.069519   \n",
       "9          0.201754       0.666667         0.309764          0.044053   \n",
       "\n",
       "   rouge2_recall  rouge2_fmeasure  rougeL_precision  rougeL_recall  \\\n",
       "0       0.213115         0.104839          0.154255       0.467742   \n",
       "1       0.285714         0.171123          0.174242       0.403509   \n",
       "2       0.259259         0.059574          0.076555       0.571429   \n",
       "3       0.193548         0.095238          0.146597       0.444444   \n",
       "4       0.078947         0.025862          0.097436       0.487179   \n",
       "5       0.050000         0.018868          0.104046       0.439024   \n",
       "6       0.277778         0.092166          0.120879       0.594595   \n",
       "7       0.229730         0.145299          0.186335       0.400000   \n",
       "8       0.168831         0.098485          0.154255       0.371795   \n",
       "9       0.147059         0.067797          0.114035       0.376812   \n",
       "\n",
       "   rougeL_fmeasure  \n",
       "0         0.232000  \n",
       "1         0.243386  \n",
       "2         0.135021  \n",
       "3         0.220472  \n",
       "4         0.162393  \n",
       "5         0.168224  \n",
       "6         0.200913  \n",
       "7         0.254237  \n",
       "8         0.218045  \n",
       "9         0.175084  "
      ]
     },
     "execution_count": 37,
     "metadata": {},
     "output_type": "execute_result"
    }
   ],
   "source": [
    "evaluation_df_stats = calculate_metrics(val_df, prediction_col=\"basePredictions\")\n",
    "evaluation_df_stats"
   ]
  },
  {
   "cell_type": "code",
   "execution_count": 38,
   "metadata": {
    "id": "ZEyRYhEBZwy9",
    "tags": []
   },
   "outputs": [
    {
     "name": "stdout",
     "output_type": "stream",
     "text": [
      "Mean rougeL_precision is 0.1328636697638076\n",
      "Mean rougeL_recall is 0.4556528661302465\n",
      "Mean rougeL_fmeasure is 0.20097770608469773\n"
     ]
    }
   ],
   "source": [
    "print(\"Mean rougeL_precision is\", evaluation_df_stats.rougeL_precision.mean())\n",
    "print(\"Mean rougeL_recall is\", evaluation_df_stats.rougeL_recall.mean())\n",
    "print(\"Mean rougeL_fmeasure is\", evaluation_df_stats.rougeL_fmeasure.mean())"
   ]
  },
  {
   "cell_type": "markdown",
   "metadata": {
    "id": "uYAjjpdG_cpP"
   },
   "source": [
    "## Fine-tune the model"
   ]
  },
  {
   "cell_type": "markdown",
   "metadata": {
    "id": "d1263b90fbc4"
   },
   "source": [
    "When you run a supervised fine-tuning job, the model learns additional parameters that help it encode the necessary information to perform the desired task or learn the desired behavior. These parameters are used during inference. The output of the tuning job is a new model that combines the newly learned parameters with the original model."
   ]
  },
  {
   "cell_type": "markdown",
   "metadata": {
    "id": "EyqBRoY5rscI"
   },
   "source": [
    "**Tuning Job parameters**\n",
    "\n",
    "- `source_model`: Specifies the base Gemini model version you want to fine-tune.\n",
    "- `train_dataset`: Path to your training data in JSONL format.\n",
    "\n",
    "\n",
    " *Optional parameters*\n",
    " - `validation_dataset`: If provided, this data is used to evaluate the model during tuning.\n",
    " - `tuned_model_display_name`: Display name for the tuned model.\n",
    " \n",
    " *Hyperparameters* \n",
    " - `epochs`: The number of training epochs to run.\n",
    " - `learning_rate_multiplier`: A value to scale the learning rate during training.\n",
    " - `adapter_size` : Gemini 1.5 Pro supports Adapter length [1, 4], default value is 4.\n"
   ]
  },
  {
   "cell_type": "markdown",
   "metadata": {
    "id": "UJ0gxBeyqO9k"
   },
   "source": [
    "**Note: The default hyperparameter settings are optimized for optimal performance based on rigorous testing and are recommended for initial use. Users may customize these parameters to address specific performance requirements.**"
   ]
  },
  {
   "cell_type": "code",
   "execution_count": 39,
   "metadata": {
    "id": "_vbe8o4_8qV6",
    "tags": []
   },
   "outputs": [
    {
     "name": "stdout",
     "output_type": "stream",
     "text": [
      "Creating SupervisedTuningJob\n"
     ]
    },
    {
     "name": "stderr",
     "output_type": "stream",
     "text": [
      "INFO:vertexai.tuning._tuning:Creating SupervisedTuningJob\n"
     ]
    },
    {
     "name": "stdout",
     "output_type": "stream",
     "text": [
      "SupervisedTuningJob created. Resource name: projects/951134149941/locations/us-central1/tuningJobs/9113966609801674752\n"
     ]
    },
    {
     "name": "stderr",
     "output_type": "stream",
     "text": [
      "INFO:vertexai.tuning._tuning:SupervisedTuningJob created. Resource name: projects/951134149941/locations/us-central1/tuningJobs/9113966609801674752\n"
     ]
    },
    {
     "name": "stdout",
     "output_type": "stream",
     "text": [
      "To use this SupervisedTuningJob in another session:\n"
     ]
    },
    {
     "name": "stderr",
     "output_type": "stream",
     "text": [
      "INFO:vertexai.tuning._tuning:To use this SupervisedTuningJob in another session:\n"
     ]
    },
    {
     "name": "stdout",
     "output_type": "stream",
     "text": [
      "tuning_job = sft.SupervisedTuningJob('projects/951134149941/locations/us-central1/tuningJobs/9113966609801674752')\n"
     ]
    },
    {
     "name": "stderr",
     "output_type": "stream",
     "text": [
      "INFO:vertexai.tuning._tuning:tuning_job = sft.SupervisedTuningJob('projects/951134149941/locations/us-central1/tuningJobs/9113966609801674752')\n"
     ]
    },
    {
     "name": "stdout",
     "output_type": "stream",
     "text": [
      "View Tuning Job:\n",
      "https://console.cloud.google.com/vertex-ai/generative/language/locations/us-central1/tuning/tuningJob/9113966609801674752?project=951134149941\n"
     ]
    },
    {
     "name": "stderr",
     "output_type": "stream",
     "text": [
      "INFO:vertexai.tuning._tuning:View Tuning Job:\n",
      "https://console.cloud.google.com/vertex-ai/generative/language/locations/us-central1/tuning/tuningJob/9113966609801674752?project=951134149941\n"
     ]
    },
    {
     "data": {
      "text/html": [
       "\n",
       "        \n",
       "    <link rel=\"stylesheet\" href=\"https://fonts.googleapis.com/icon?family=Material+Icons\">\n",
       "    <style>\n",
       "      .view-vertex-resource,\n",
       "      .view-vertex-resource:hover,\n",
       "      .view-vertex-resource:visited {\n",
       "        position: relative;\n",
       "        display: inline-flex;\n",
       "        flex-direction: row;\n",
       "        height: 32px;\n",
       "        padding: 0 12px;\n",
       "          margin: 4px 18px;\n",
       "        gap: 4px;\n",
       "        border-radius: 4px;\n",
       "\n",
       "        align-items: center;\n",
       "        justify-content: center;\n",
       "        background-color: rgb(255, 255, 255);\n",
       "        color: rgb(51, 103, 214);\n",
       "\n",
       "        font-family: Roboto,\"Helvetica Neue\",sans-serif;\n",
       "        font-size: 13px;\n",
       "        font-weight: 500;\n",
       "        text-transform: uppercase;\n",
       "        text-decoration: none !important;\n",
       "\n",
       "        transition: box-shadow 280ms cubic-bezier(0.4, 0, 0.2, 1) 0s;\n",
       "        box-shadow: 0px 3px 1px -2px rgba(0,0,0,0.2), 0px 2px 2px 0px rgba(0,0,0,0.14), 0px 1px 5px 0px rgba(0,0,0,0.12);\n",
       "      }\n",
       "      .view-vertex-resource:active {\n",
       "        box-shadow: 0px 5px 5px -3px rgba(0,0,0,0.2),0px 8px 10px 1px rgba(0,0,0,0.14),0px 3px 14px 2px rgba(0,0,0,0.12);\n",
       "      }\n",
       "      .view-vertex-resource:active .view-vertex-ripple::before {\n",
       "        position: absolute;\n",
       "        top: 0;\n",
       "        bottom: 0;\n",
       "        left: 0;\n",
       "        right: 0;\n",
       "        border-radius: 4px;\n",
       "        pointer-events: none;\n",
       "\n",
       "        content: '';\n",
       "        background-color: rgb(51, 103, 214);\n",
       "        opacity: 0.12;\n",
       "      }\n",
       "      .view-vertex-icon {\n",
       "        font-size: 18px;\n",
       "      }\n",
       "    </style>\n",
       "  \n",
       "        <a class=\"view-vertex-resource\" id=\"view-vertex-resource-bc3417c2-9dbe-477d-880a-70da4ce90ccf\" href=\"#view-view-vertex-resource-bc3417c2-9dbe-477d-880a-70da4ce90ccf\">\n",
       "          <span class=\"material-icons view-vertex-icon\">tune</span>\n",
       "          <span>View Tuning Job</span>\n",
       "        </a>\n",
       "        \n",
       "        <script>\n",
       "          (function () {\n",
       "            const link = document.getElementById('view-vertex-resource-bc3417c2-9dbe-477d-880a-70da4ce90ccf');\n",
       "            link.addEventListener('click', (e) => {\n",
       "              if (window.google?.colab?.openUrl) {\n",
       "                window.google.colab.openUrl('https://console.cloud.google.com/vertex-ai/generative/language/locations/us-central1/tuning/tuningJob/9113966609801674752?project=951134149941');\n",
       "              } else {\n",
       "                window.open('https://console.cloud.google.com/vertex-ai/generative/language/locations/us-central1/tuning/tuningJob/9113966609801674752?project=951134149941', '_blank');\n",
       "              }\n",
       "              e.stopPropagation();\n",
       "              e.preventDefault();\n",
       "            });\n",
       "          })();\n",
       "        </script>\n",
       "    "
      ],
      "text/plain": [
       "<IPython.core.display.HTML object>"
      ]
     },
     "metadata": {},
     "output_type": "display_data"
    }
   ],
   "source": [
    "tuned_model_display_name = PREFIX + \"-gemini-1.5-pro-image-tuned\"  # @param {type:\"string\"}\n",
    "\n",
    "sft_tuning_job = sft.train(\n",
    "    source_model=base_model,\n",
    "    train_dataset=f\"{BUCKET_URI}/train/train.jsonl\",\n",
    "    # Optional:\n",
    "    validation_dataset=f\"{BUCKET_URI}/val/val.jsonl\",\n",
    "    tuned_model_display_name=tuned_model_display_name,\n",
    ")"
   ]
  },
  {
   "cell_type": "code",
   "execution_count": 40,
   "metadata": {
    "id": "hSDpQGUeERcH",
    "tags": []
   },
   "outputs": [
    {
     "data": {
      "text/plain": [
       "'projects/951134149941/locations/us-central1/tuningJobs/9113966609801674752'"
      ]
     },
     "execution_count": 40,
     "metadata": {},
     "output_type": "execute_result"
    }
   ],
   "source": [
    "job_name = sft_tuning_job.to_dict()[\"name\"]\n",
    "job_name"
   ]
  },
  {
   "cell_type": "code",
   "execution_count": 41,
   "metadata": {
    "id": "dYQgzOr7KciG",
    "tags": []
   },
   "outputs": [
    {
     "data": {
      "text/plain": [
       "{'name': 'projects/951134149941/locations/us-central1/tuningJobs/9113966609801674752',\n",
       " 'tunedModelDisplayName': 'gemini-1.5-pro-image-tuned',\n",
       " 'baseModel': 'gemini-1.5-pro-002',\n",
       " 'supervisedTuningSpec': {'trainingDatasetUri': 'gs://gemini-image-sft/train/train.jsonl',\n",
       "  'validationDatasetUri': 'gs://gemini-image-sft/val/val.jsonl',\n",
       "  'hyperParameters': {}},\n",
       " 'state': 'JOB_STATE_PENDING',\n",
       " 'createTime': '2024-10-22T15:39:26.868246Z',\n",
       " 'updateTime': '2024-10-22T15:39:26.868246Z'}"
      ]
     },
     "execution_count": 41,
     "metadata": {},
     "output_type": "execute_result"
    }
   ],
   "source": [
    "sft_tuning_job.to_dict()"
   ]
  },
  {
   "cell_type": "markdown",
   "metadata": {
    "id": "RE1a3AgRsqJh"
   },
   "source": [
    "**Note: Tuning time depends on several factors, such as training data size, number of epochs, learning rate multiplier, etc.**"
   ]
  },
  {
   "cell_type": "markdown",
   "metadata": {
    "id": "qHlfSLjKsruX"
   },
   "source": [
    "<div class=\"alert alert-block alert-warning\">\n",
    "<b>⚠️ It will take ~60mins for the model tuning job to complete on the provided dataset and set configurations/hyperparameters. ⚠️</b>\n",
    "</div>"
   ]
  },
  {
   "cell_type": "code",
   "execution_count": 42,
   "metadata": {
    "id": "97EUpJwisv_Q",
    "tags": []
   },
   "outputs": [
    {
     "data": {
      "text/html": [
       "\n",
       "        \n",
       "    <link rel=\"stylesheet\" href=\"https://fonts.googleapis.com/icon?family=Material+Icons\">\n",
       "    <style>\n",
       "      .view-vertex-resource,\n",
       "      .view-vertex-resource:hover,\n",
       "      .view-vertex-resource:visited {\n",
       "        position: relative;\n",
       "        display: inline-flex;\n",
       "        flex-direction: row;\n",
       "        height: 32px;\n",
       "        padding: 0 12px;\n",
       "          margin: 4px 18px;\n",
       "        gap: 4px;\n",
       "        border-radius: 4px;\n",
       "\n",
       "        align-items: center;\n",
       "        justify-content: center;\n",
       "        background-color: rgb(255, 255, 255);\n",
       "        color: rgb(51, 103, 214);\n",
       "\n",
       "        font-family: Roboto,\"Helvetica Neue\",sans-serif;\n",
       "        font-size: 13px;\n",
       "        font-weight: 500;\n",
       "        text-transform: uppercase;\n",
       "        text-decoration: none !important;\n",
       "\n",
       "        transition: box-shadow 280ms cubic-bezier(0.4, 0, 0.2, 1) 0s;\n",
       "        box-shadow: 0px 3px 1px -2px rgba(0,0,0,0.2), 0px 2px 2px 0px rgba(0,0,0,0.14), 0px 1px 5px 0px rgba(0,0,0,0.12);\n",
       "      }\n",
       "      .view-vertex-resource:active {\n",
       "        box-shadow: 0px 5px 5px -3px rgba(0,0,0,0.2),0px 8px 10px 1px rgba(0,0,0,0.14),0px 3px 14px 2px rgba(0,0,0,0.12);\n",
       "      }\n",
       "      .view-vertex-resource:active .view-vertex-ripple::before {\n",
       "        position: absolute;\n",
       "        top: 0;\n",
       "        bottom: 0;\n",
       "        left: 0;\n",
       "        right: 0;\n",
       "        border-radius: 4px;\n",
       "        pointer-events: none;\n",
       "\n",
       "        content: '';\n",
       "        background-color: rgb(51, 103, 214);\n",
       "        opacity: 0.12;\n",
       "      }\n",
       "      .view-vertex-icon {\n",
       "        font-size: 18px;\n",
       "      }\n",
       "    </style>\n",
       "  \n",
       "        <a class=\"view-vertex-resource\" id=\"view-vertex-resource-912d02a7-7e94-4bd8-9a47-8b04f019d392\" href=\"#view-view-vertex-resource-912d02a7-7e94-4bd8-9a47-8b04f019d392\">\n",
       "          <span class=\"material-icons view-vertex-icon\">science</span>\n",
       "          <span>View Experiment</span>\n",
       "        </a>\n",
       "        \n",
       "        <script>\n",
       "          (function () {\n",
       "            const link = document.getElementById('view-vertex-resource-912d02a7-7e94-4bd8-9a47-8b04f019d392');\n",
       "            link.addEventListener('click', (e) => {\n",
       "              if (window.google?.colab?.openUrl) {\n",
       "                window.google.colab.openUrl('https://console.cloud.google.com/vertex-ai/experiments/locations/us-central1/experiments/tuning-experiment-20241022084054385593/runs?project=bb-genai');\n",
       "              } else {\n",
       "                window.open('https://console.cloud.google.com/vertex-ai/experiments/locations/us-central1/experiments/tuning-experiment-20241022084054385593/runs?project=bb-genai', '_blank');\n",
       "              }\n",
       "              e.stopPropagation();\n",
       "              e.preventDefault();\n",
       "            });\n",
       "          })();\n",
       "        </script>\n",
       "    "
      ],
      "text/plain": [
       "<IPython.core.display.HTML object>"
      ]
     },
     "metadata": {},
     "output_type": "display_data"
    },
    {
     "name": "stdout",
     "output_type": "stream",
     "text": [
      "CPU times: user 5.39 s, sys: 1.82 s, total: 7.22 s\n",
      "Wall time: 1h 2min 13s\n"
     ]
    }
   ],
   "source": [
    "%%time\n",
    "# Wait for job completion\n",
    "while not sft_tuning_job.refresh().has_ended:\n",
    "    time.sleep(60)"
   ]
  },
  {
   "cell_type": "code",
   "execution_count": 43,
   "metadata": {
    "id": "c-72sxLLgR1O"
   },
   "outputs": [
    {
     "data": {
      "text/plain": [
       "{'name': 'projects/951134149941/locations/us-central1/tuningJobs/9113966609801674752',\n",
       " 'tunedModelDisplayName': 'gemini-1.5-pro-image-tuned',\n",
       " 'baseModel': 'gemini-1.5-pro-002',\n",
       " 'supervisedTuningSpec': {'trainingDatasetUri': 'gs://gemini-image-sft/train/train.jsonl',\n",
       "  'validationDatasetUri': 'gs://gemini-image-sft/val/val.jsonl',\n",
       "  'hyperParameters': {'epochCount': '10',\n",
       "   'learningRateMultiplier': 1.0,\n",
       "   'adapterSize': 'ADAPTER_SIZE_FOUR'}},\n",
       " 'state': 'JOB_STATE_SUCCEEDED',\n",
       " 'createTime': '2024-10-22T15:39:26.868246Z',\n",
       " 'startTime': '2024-10-22T15:39:35.617094Z',\n",
       " 'endTime': '2024-10-22T16:42:43.589584Z',\n",
       " 'updateTime': '2024-10-22T16:42:43.589584Z',\n",
       " 'experiment': 'projects/951134149941/locations/us-central1/metadataStores/default/contexts/tuning-experiment-20241022084054385593',\n",
       " 'tunedModel': {'model': 'projects/951134149941/locations/us-central1/models/6725920434803441664@1',\n",
       "  'endpoint': 'projects/951134149941/locations/us-central1/endpoints/2719137335466786816'},\n",
       " 'tuningDataStats': {'supervisedTuningDataStats': {'tuningDatasetExampleCount': '90',\n",
       "   'userInputTokenDistribution': {'sum': '24300',\n",
       "    'min': 270.0,\n",
       "    'max': 270.0,\n",
       "    'mean': 270.0,\n",
       "    'median': 270.0,\n",
       "    'p5': 270.0,\n",
       "    'p95': 270.0,\n",
       "    'buckets': [{'count': 90.0, 'left': 270.0, 'right': 270.0}]},\n",
       "   'userOutputTokenDistribution': {'sum': '6453',\n",
       "    'min': 25.0,\n",
       "    'max': 128.0,\n",
       "    'mean': 71.7,\n",
       "    'median': 71.0,\n",
       "    'p5': 38.0,\n",
       "    'p95': 109.0,\n",
       "    'buckets': [{'count': 7.0, 'left': 25.0, 'right': 42.0},\n",
       "     {'count': 18.0, 'left': 43.0, 'right': 59.0},\n",
       "     {'count': 33.0, 'left': 60.0, 'right': 76.0},\n",
       "     {'count': 22.0, 'left': 77.0, 'right': 94.0},\n",
       "     {'count': 8.0, 'left': 95.0, 'right': 111.0},\n",
       "     {'count': 2.0, 'left': 112.0, 'right': 128.0}]},\n",
       "   'userMessagePerExampleDistribution': {'sum': '180',\n",
       "    'min': 2.0,\n",
       "    'max': 2.0,\n",
       "    'mean': 2.0,\n",
       "    'median': 2.0,\n",
       "    'p5': 2.0,\n",
       "    'p95': 2.0,\n",
       "    'buckets': [{'count': 90.0, 'left': 2.0, 'right': 2.0}]},\n",
       "   'userDatasetExamples': [{'role': 'user',\n",
       "     'parts': [{'text': '<media0>Describe this image in detail that captures the essence of it.'}]},\n",
       "    {'role': 'model',\n",
       "     'parts': [{'text': \"A brown and white cat with a red collar looks to the left, its eyes shining yellow. The cat's fur is long and silky, and its whiskers are long and prominent. The cat's nose is pink, and its ears are pointy. The cat's eyes are yellow, and its fur is brown and white. The cat is standing in the dark, and its head is turned to the side.\"}]},\n",
       "    {'role': 'user',\n",
       "     'parts': [{'text': '<media0>Describe this image in detail that captures the essence of it.'}]},\n",
       "    {'role': 'model',\n",
       "     'parts': [{'text': \"A goat stands proudly in a field of tall grass, its horns curved and its eyes watchful. The goat's coat is white and brown, with a distinctive black spot on its face. The sky is clear and blue, with fluffy white clouds drifting above. The grass is tall and green, and the weeds are tall and spindly. The goat's horns are long and curved, and its eyes are bright and alert. The goat is standing tal...\"}]},\n",
       "    {'role': 'user',\n",
       "     'parts': [{'text': '<media0>Describe this image in detail that captures the essence of it.'}]},\n",
       "    {'role': 'model',\n",
       "     'parts': [{'text': \"A black dog stands in the green grass, its tongue hanging out and its eyes shining. The dog's black fur and brown eyes are prominent features in the image. The dog's collar and tag are visible, as is its left ear and the ring on its collar. The grass is lush and green, and the trees in the background are tall and imposing. The dog's mouth is open, and its tongue is pink. The dog's eyes are brow...\"}]}],\n",
       "   'totalBillableTokenCount': '30753'}}}"
      ]
     },
     "execution_count": 43,
     "metadata": {},
     "output_type": "execute_result"
    }
   ],
   "source": [
    "sft_tuning_job.to_dict()"
   ]
  },
  {
   "cell_type": "markdown",
   "metadata": {
    "id": "5680557f-67bd-4e8c-a383-02ab655246c5"
   },
   "source": [
    "## Evaluation Post-tuning"
   ]
  },
  {
   "cell_type": "markdown",
   "metadata": {
    "id": "c3d1f75bddea"
   },
   "source": [
    "- Evaluate the Gemini model on the validation dataset with tuned model."
   ]
  },
  {
   "cell_type": "code",
   "execution_count": 44,
   "metadata": {
    "id": "bK2Cyrhavw-Y"
   },
   "outputs": [
    {
     "data": {
      "text/html": [
       "\n",
       "        \n",
       "    <link rel=\"stylesheet\" href=\"https://fonts.googleapis.com/icon?family=Material+Icons\">\n",
       "    <style>\n",
       "      .view-vertex-resource,\n",
       "      .view-vertex-resource:hover,\n",
       "      .view-vertex-resource:visited {\n",
       "        position: relative;\n",
       "        display: inline-flex;\n",
       "        flex-direction: row;\n",
       "        height: 32px;\n",
       "        padding: 0 12px;\n",
       "          margin: 4px 18px;\n",
       "        gap: 4px;\n",
       "        border-radius: 4px;\n",
       "\n",
       "        align-items: center;\n",
       "        justify-content: center;\n",
       "        background-color: rgb(255, 255, 255);\n",
       "        color: rgb(51, 103, 214);\n",
       "\n",
       "        font-family: Roboto,\"Helvetica Neue\",sans-serif;\n",
       "        font-size: 13px;\n",
       "        font-weight: 500;\n",
       "        text-transform: uppercase;\n",
       "        text-decoration: none !important;\n",
       "\n",
       "        transition: box-shadow 280ms cubic-bezier(0.4, 0, 0.2, 1) 0s;\n",
       "        box-shadow: 0px 3px 1px -2px rgba(0,0,0,0.2), 0px 2px 2px 0px rgba(0,0,0,0.14), 0px 1px 5px 0px rgba(0,0,0,0.12);\n",
       "      }\n",
       "      .view-vertex-resource:active {\n",
       "        box-shadow: 0px 5px 5px -3px rgba(0,0,0,0.2),0px 8px 10px 1px rgba(0,0,0,0.14),0px 3px 14px 2px rgba(0,0,0,0.12);\n",
       "      }\n",
       "      .view-vertex-resource:active .view-vertex-ripple::before {\n",
       "        position: absolute;\n",
       "        top: 0;\n",
       "        bottom: 0;\n",
       "        left: 0;\n",
       "        right: 0;\n",
       "        border-radius: 4px;\n",
       "        pointer-events: none;\n",
       "\n",
       "        content: '';\n",
       "        background-color: rgb(51, 103, 214);\n",
       "        opacity: 0.12;\n",
       "      }\n",
       "      .view-vertex-icon {\n",
       "        font-size: 18px;\n",
       "      }\n",
       "    </style>\n",
       "  \n",
       "        <a class=\"view-vertex-resource\" id=\"view-vertex-resource-2d9baf32-8b20-4000-8d98-64878009e1a7\" href=\"#view-view-vertex-resource-2d9baf32-8b20-4000-8d98-64878009e1a7\">\n",
       "          <span class=\"material-icons view-vertex-icon\">tune</span>\n",
       "          <span>View Tuning Job</span>\n",
       "        </a>\n",
       "        \n",
       "        <script>\n",
       "          (function () {\n",
       "            const link = document.getElementById('view-vertex-resource-2d9baf32-8b20-4000-8d98-64878009e1a7');\n",
       "            link.addEventListener('click', (e) => {\n",
       "              if (window.google?.colab?.openUrl) {\n",
       "                window.google.colab.openUrl('https://console.cloud.google.com/vertex-ai/generative/language/locations/us-central1/tuning/tuningJob/9113966609801674752?project=951134149941');\n",
       "              } else {\n",
       "                window.open('https://console.cloud.google.com/vertex-ai/generative/language/locations/us-central1/tuning/tuningJob/9113966609801674752?project=951134149941', '_blank');\n",
       "              }\n",
       "              e.stopPropagation();\n",
       "              e.preventDefault();\n",
       "            });\n",
       "          })();\n",
       "        </script>\n",
       "    "
      ],
      "text/plain": [
       "<IPython.core.display.HTML object>"
      ]
     },
     "metadata": {},
     "output_type": "display_data"
    }
   ],
   "source": [
    "tuning_job = sft.SupervisedTuningJob(job_name)\n",
    "\n",
    "# tuned model endpoint name\n",
    "tuned_model_endpoint_name = tuning_job.tuned_model_endpoint_name\n",
    "\n",
    "tuned_model = GenerativeModel(tuned_model_endpoint_name)"
   ]
  },
  {
   "cell_type": "code",
   "execution_count": 45,
   "metadata": {
    "id": "l4ZnefpvwFeN"
   },
   "outputs": [
    {
     "data": {
      "text/plain": [
       "'projects/951134149941/locations/us-central1/metadataStores/default/contexts/tuning-experiment-20241022084054385593'"
      ]
     },
     "execution_count": 45,
     "metadata": {},
     "output_type": "execute_result"
    }
   ],
   "source": [
    "# Get experiment resource name from tuning job.\n",
    "experiment_name = tuning_job.experiment.resource_name\n",
    "experiment_name"
   ]
  },
  {
   "cell_type": "code",
   "execution_count": 46,
   "metadata": {
    "id": "M1Ce0oIFwtoN"
   },
   "outputs": [
    {
     "data": {
      "text/plain": [
       "'projects/951134149941/locations/us-central1/models/6725920434803441664@1'"
      ]
     },
     "execution_count": 46,
     "metadata": {},
     "output_type": "execute_result"
    }
   ],
   "source": [
    "# tuned model name\n",
    "tuned_model_name = tuning_job.tuned_model_name\n",
    "tuned_model_name"
   ]
  },
  {
   "cell_type": "markdown",
   "metadata": {
    "id": "w2OoRp4OuUlC"
   },
   "source": [
    "- Get a prediction from base model"
   ]
  },
  {
   "cell_type": "code",
   "execution_count": 47,
   "metadata": {
    "id": "Bp4yHwjNJbLQ"
   },
   "outputs": [
    {
     "name": "stdout",
     "output_type": "stream",
     "text": [
      "Close-up, slightly low-angle view of a person's arm and hand resting on a white, textured surface, likely a wall or ledge. \n",
      "\n",
      "\n",
      "The focus is on the sleeve and hand. The sleeve is a light, dusty rose or peach color, made of a sheer, gauzy fabric. It's a long, loose-fitting sleeve that gathers and bunches at the wrist, creating a voluminous, \"balloon\" or \"bishop\" style cuff. The fabric of the sleeve appears delicate and flows softly. \n",
      "\n",
      "\n",
      "The hand resting on the white surface is a darker skin tone. The fingers are relaxed and slightly curved, with short, neutral-toned nails. \n",
      "\n",
      "\n",
      "The white surface against which the hand and sleeve are positioned has a rough, stucco-like texture. The bright sunlight casts shadows from the sleeve and hand onto the surface, adding depth and contrast to the image.  The background is a similar light-colored surface, likely a continuation of the wall, and is slightly out of focus, drawing attention to the foreground elements. The overall impression is one of soft, elegant simplicity with a focus on texture and light.\n"
     ]
    }
   ],
   "source": [
    "response = generation_model.generate_content(\n",
    "    contents=[Part.from_uri(query_image_uri, \"image/jpeg\"), task_prompt],\n",
    "    # Optional config\n",
    "    generation_config=GenerationConfig(\n",
    "        temperature=0.0,\n",
    "    ),\n",
    ")\n",
    "\n",
    "print(response.text.strip())"
   ]
  },
  {
   "cell_type": "markdown",
   "metadata": {
    "id": "oVEEGZ-cuYx2"
   },
   "source": [
    "- Get a prediction from tuned model"
   ]
  },
  {
   "cell_type": "code",
   "execution_count": 48,
   "metadata": {
    "id": "VxjhXCupNkR9"
   },
   "outputs": [
    {
     "name": "stdout",
     "output_type": "stream",
     "text": [
      "A woman stands in front of a white wall, her hand resting on the wall. The woman is wearing a long-sleeved shirt with a long sleeve and a long skirt. The shirt is brown and the skirt is brown. The woman's hand is on the wall, and her fingers are spread out. The wall is white and the woman's shadow is on the wall. The woman's nails are painted pink.\n"
     ]
    }
   ],
   "source": [
    "response = tuned_model.generate_content(\n",
    "    contents=[Part.from_uri(query_image_uri, \"image/jpeg\"), task_prompt],\n",
    "    # Optional config\n",
    "    generation_config=GenerationConfig(\n",
    "        temperature=0.0,\n",
    "    ),\n",
    ")\n",
    "\n",
    "print(response.text.strip())"
   ]
  },
  {
   "cell_type": "markdown",
   "metadata": {
    "id": "s_1-lbJZugY0"
   },
   "source": [
    "- Evaluate the tuned model on entire validation set"
   ]
  },
  {
   "cell_type": "markdown",
   "metadata": {
    "id": "B7sRtCFCUiag"
   },
   "source": [
    "<div class=\"alert alert-block alert-warning\">\n",
    "<b>⚠️ It will take 1-2 mins for the model to generate predictions on the provided validation dataset. ⚠️</b>\n",
    "</div>"
   ]
  },
  {
   "cell_type": "code",
   "execution_count": 49,
   "metadata": {
    "id": "pWxg3i3a391K"
   },
   "outputs": [
    {
     "name": "stderr",
     "output_type": "stream",
     "text": [
      "100%|██████████| 10/10 [01:03<00:00,  6.39s/it]"
     ]
    },
    {
     "name": "stdout",
     "output_type": "stream",
     "text": [
      "CPU times: user 153 ms, sys: 28.4 ms, total: 181 ms\n",
      "Wall time: 1min 3s\n"
     ]
    },
    {
     "name": "stderr",
     "output_type": "stream",
     "text": [
      "\n"
     ]
    }
   ],
   "source": [
    "%%time\n",
    "predictions_tuned = run_eval(val_df, model=tuned_model)"
   ]
  },
  {
   "cell_type": "code",
   "execution_count": 50,
   "metadata": {
    "id": "V0wJNPEf5-6I"
   },
   "outputs": [],
   "source": [
    "val_df.loc[:, \"tunedPredictions\"] = predictions_tuned"
   ]
  },
  {
   "cell_type": "code",
   "execution_count": 51,
   "metadata": {
    "id": "og4hVmwCuuPW"
   },
   "outputs": [
    {
     "data": {
      "text/html": [
       "<div>\n",
       "<style scoped>\n",
       "    .dataframe tbody tr th:only-of-type {\n",
       "        vertical-align: middle;\n",
       "    }\n",
       "\n",
       "    .dataframe tbody tr th {\n",
       "        vertical-align: top;\n",
       "    }\n",
       "\n",
       "    .dataframe thead th {\n",
       "        text-align: right;\n",
       "    }\n",
       "</style>\n",
       "<table border=\"1\" class=\"dataframe\">\n",
       "  <thead>\n",
       "    <tr style=\"text-align: right;\">\n",
       "      <th></th>\n",
       "      <th>rouge1_precision</th>\n",
       "      <th>rouge1_recall</th>\n",
       "      <th>rouge1_fmeasure</th>\n",
       "      <th>rouge2_precision</th>\n",
       "      <th>rouge2_recall</th>\n",
       "      <th>rouge2_fmeasure</th>\n",
       "      <th>rougeL_precision</th>\n",
       "      <th>rougeL_recall</th>\n",
       "      <th>rougeL_fmeasure</th>\n",
       "    </tr>\n",
       "  </thead>\n",
       "  <tbody>\n",
       "    <tr>\n",
       "      <th>0</th>\n",
       "      <td>0.426230</td>\n",
       "      <td>0.419355</td>\n",
       "      <td>0.422764</td>\n",
       "      <td>0.133333</td>\n",
       "      <td>0.131148</td>\n",
       "      <td>0.132231</td>\n",
       "      <td>0.311475</td>\n",
       "      <td>0.306452</td>\n",
       "      <td>0.308943</td>\n",
       "    </tr>\n",
       "    <tr>\n",
       "      <th>1</th>\n",
       "      <td>0.587302</td>\n",
       "      <td>0.649123</td>\n",
       "      <td>0.616667</td>\n",
       "      <td>0.338710</td>\n",
       "      <td>0.375000</td>\n",
       "      <td>0.355932</td>\n",
       "      <td>0.396825</td>\n",
       "      <td>0.438596</td>\n",
       "      <td>0.416667</td>\n",
       "    </tr>\n",
       "    <tr>\n",
       "      <th>2</th>\n",
       "      <td>0.193548</td>\n",
       "      <td>0.642857</td>\n",
       "      <td>0.297521</td>\n",
       "      <td>0.108696</td>\n",
       "      <td>0.370370</td>\n",
       "      <td>0.168067</td>\n",
       "      <td>0.172043</td>\n",
       "      <td>0.571429</td>\n",
       "      <td>0.264463</td>\n",
       "    </tr>\n",
       "    <tr>\n",
       "      <th>3</th>\n",
       "      <td>0.507692</td>\n",
       "      <td>0.523810</td>\n",
       "      <td>0.515625</td>\n",
       "      <td>0.203125</td>\n",
       "      <td>0.209677</td>\n",
       "      <td>0.206349</td>\n",
       "      <td>0.384615</td>\n",
       "      <td>0.396825</td>\n",
       "      <td>0.390625</td>\n",
       "    </tr>\n",
       "    <tr>\n",
       "      <th>4</th>\n",
       "      <td>0.403226</td>\n",
       "      <td>0.641026</td>\n",
       "      <td>0.495050</td>\n",
       "      <td>0.114754</td>\n",
       "      <td>0.184211</td>\n",
       "      <td>0.141414</td>\n",
       "      <td>0.258065</td>\n",
       "      <td>0.410256</td>\n",
       "      <td>0.316832</td>\n",
       "    </tr>\n",
       "    <tr>\n",
       "      <th>5</th>\n",
       "      <td>0.557692</td>\n",
       "      <td>0.707317</td>\n",
       "      <td>0.623656</td>\n",
       "      <td>0.333333</td>\n",
       "      <td>0.425000</td>\n",
       "      <td>0.373626</td>\n",
       "      <td>0.403846</td>\n",
       "      <td>0.512195</td>\n",
       "      <td>0.451613</td>\n",
       "    </tr>\n",
       "    <tr>\n",
       "      <th>6</th>\n",
       "      <td>0.577778</td>\n",
       "      <td>0.702703</td>\n",
       "      <td>0.634146</td>\n",
       "      <td>0.340909</td>\n",
       "      <td>0.416667</td>\n",
       "      <td>0.375000</td>\n",
       "      <td>0.466667</td>\n",
       "      <td>0.567568</td>\n",
       "      <td>0.512195</td>\n",
       "    </tr>\n",
       "    <tr>\n",
       "      <th>7</th>\n",
       "      <td>0.611940</td>\n",
       "      <td>0.546667</td>\n",
       "      <td>0.577465</td>\n",
       "      <td>0.348485</td>\n",
       "      <td>0.310811</td>\n",
       "      <td>0.328571</td>\n",
       "      <td>0.492537</td>\n",
       "      <td>0.440000</td>\n",
       "      <td>0.464789</td>\n",
       "    </tr>\n",
       "    <tr>\n",
       "      <th>8</th>\n",
       "      <td>0.803279</td>\n",
       "      <td>0.628205</td>\n",
       "      <td>0.705036</td>\n",
       "      <td>0.483333</td>\n",
       "      <td>0.376623</td>\n",
       "      <td>0.423358</td>\n",
       "      <td>0.491803</td>\n",
       "      <td>0.384615</td>\n",
       "      <td>0.431655</td>\n",
       "    </tr>\n",
       "    <tr>\n",
       "      <th>9</th>\n",
       "      <td>0.398230</td>\n",
       "      <td>0.652174</td>\n",
       "      <td>0.494505</td>\n",
       "      <td>0.223214</td>\n",
       "      <td>0.367647</td>\n",
       "      <td>0.277778</td>\n",
       "      <td>0.327434</td>\n",
       "      <td>0.536232</td>\n",
       "      <td>0.406593</td>\n",
       "    </tr>\n",
       "  </tbody>\n",
       "</table>\n",
       "</div>"
      ],
      "text/plain": [
       "   rouge1_precision  rouge1_recall  rouge1_fmeasure  rouge2_precision  \\\n",
       "0          0.426230       0.419355         0.422764          0.133333   \n",
       "1          0.587302       0.649123         0.616667          0.338710   \n",
       "2          0.193548       0.642857         0.297521          0.108696   \n",
       "3          0.507692       0.523810         0.515625          0.203125   \n",
       "4          0.403226       0.641026         0.495050          0.114754   \n",
       "5          0.557692       0.707317         0.623656          0.333333   \n",
       "6          0.577778       0.702703         0.634146          0.340909   \n",
       "7          0.611940       0.546667         0.577465          0.348485   \n",
       "8          0.803279       0.628205         0.705036          0.483333   \n",
       "9          0.398230       0.652174         0.494505          0.223214   \n",
       "\n",
       "   rouge2_recall  rouge2_fmeasure  rougeL_precision  rougeL_recall  \\\n",
       "0       0.131148         0.132231          0.311475       0.306452   \n",
       "1       0.375000         0.355932          0.396825       0.438596   \n",
       "2       0.370370         0.168067          0.172043       0.571429   \n",
       "3       0.209677         0.206349          0.384615       0.396825   \n",
       "4       0.184211         0.141414          0.258065       0.410256   \n",
       "5       0.425000         0.373626          0.403846       0.512195   \n",
       "6       0.416667         0.375000          0.466667       0.567568   \n",
       "7       0.310811         0.328571          0.492537       0.440000   \n",
       "8       0.376623         0.423358          0.491803       0.384615   \n",
       "9       0.367647         0.277778          0.327434       0.536232   \n",
       "\n",
       "   rougeL_fmeasure  \n",
       "0         0.308943  \n",
       "1         0.416667  \n",
       "2         0.264463  \n",
       "3         0.390625  \n",
       "4         0.316832  \n",
       "5         0.451613  \n",
       "6         0.512195  \n",
       "7         0.464789  \n",
       "8         0.431655  \n",
       "9         0.406593  "
      ]
     },
     "execution_count": 51,
     "metadata": {},
     "output_type": "execute_result"
    }
   ],
   "source": [
    "evaluation_df_post_tuning_stats = calculate_metrics(\n",
    "    val_df, prediction_col=\"tunedPredictions\"\n",
    ")\n",
    "evaluation_df_post_tuning_stats"
   ]
  },
  {
   "cell_type": "markdown",
   "metadata": {
    "id": "heKx9Lu5vBYb"
   },
   "source": [
    "- Improvement"
   ]
  },
  {
   "cell_type": "code",
   "execution_count": 52,
   "metadata": {
    "id": "X2AVUCh3S656"
   },
   "outputs": [
    {
     "data": {
      "text/plain": [
       "0.37053107591113327"
      ]
     },
     "execution_count": 52,
     "metadata": {},
     "output_type": "execute_result"
    }
   ],
   "source": [
    "evaluation_df_post_tuning_stats.rougeL_precision.mean()"
   ]
  },
  {
   "cell_type": "code",
   "execution_count": 53,
   "metadata": {
    "id": "kTnfegPcvC-P"
   },
   "outputs": [
    {
     "name": "stdout",
     "output_type": "stream",
     "text": [
      "Model tuning has improved the rougeL_precision by 178.88% (result might differ based on each tuning iteration)\n"
     ]
    }
   ],
   "source": [
    "improvement = round(\n",
    "    (\n",
    "        (\n",
    "            evaluation_df_post_tuning_stats.rougeL_precision.mean()\n",
    "            - evaluation_df_stats.rougeL_precision.mean()\n",
    "        )\n",
    "        / evaluation_df_stats.rougeL_precision.mean()\n",
    "    )\n",
    "    * 100,\n",
    "    2,\n",
    ")\n",
    "print(\n",
    "    f\"Model tuning has improved the rougeL_precision by {improvement}% (result might differ based on each tuning iteration)\"\n",
    ")"
   ]
  },
  {
   "cell_type": "code",
   "execution_count": 54,
   "metadata": {
    "id": "qrs0o6-p6Ebr"
   },
   "outputs": [],
   "source": [
    "# Save predicitons\n",
    "predictions_all = val_df.to_csv(\"validation_pred.csv\", index=False)"
   ]
  },
  {
   "cell_type": "markdown",
   "metadata": {
    "id": "yUuvCQ2O-1OW"
   },
   "source": [
    "## Conclusion"
   ]
  },
  {
   "cell_type": "markdown",
   "metadata": {
    "id": "me908QT9-26J"
   },
   "source": [
    "Performance could be further improved:\n",
    "- By adding more training samples. In general, improve your training data quality and/or quantity towards getting a more diverse and comprehensive dataset for your task\n",
    "- By tuning the hyperparameters, such as epochs, learning rate multiplier or adapter size\n",
    "  - To find the optimal number of epochs for your dataset, we recommend experimenting with different values. While increasing epochs can lead to better performance, it's important to be mindful of overfitting, especially with smaller datasets. If you see signs of overfitting, reducing the number of epochs can help mitigate the issue\n",
    "- You may try different prompt structures/formats and opt for the one with better performance"
   ]
  },
  {
   "cell_type": "markdown",
   "metadata": {
    "id": "F7pq-hvxvy8_"
   },
   "source": [
    "## Cleaning up"
   ]
  },
  {
   "cell_type": "markdown",
   "metadata": {
    "id": "LokkxNS0vzM-"
   },
   "source": [
    "To clean up all Google Cloud resources used in this project, you can [delete the Google Cloud\n",
    "project](https://cloud.google.com/resource-manager/docs/creating-managing-projects#shutting_down_projects) you used for the tutorial.\n",
    "\n",
    "\n",
    "Otherwise, you can delete the individual resources you created in this tutorial.\n",
    "\n",
    "Refer to this [instructions](https://cloud.google.com/vertex-ai/docs/tutorials/image-classification-custom/cleanup#delete_resources) to delete the resources from console."
   ]
  },
  {
   "cell_type": "code",
   "execution_count": 55,
   "metadata": {
    "id": "H38EHjj3vwib",
    "tags": []
   },
   "outputs": [
    {
     "name": "stdout",
     "output_type": "stream",
     "text": [
      "projects/951134149941/locations/us-central1/metadataStores/default/contexts/tuning-experiment-20241022084054385593\n",
      "Experiment run tuning-experiment-run-20241022084054385593 skipped backing tensorboard run deletion.\n",
      "To delete backing tensorboard run, execute the following:\n",
      "tensorboard_run_artifact = aiplatform.metadata.artifact.Artifact(artifact_name=f\"tuning-experiment-20241022084054385593-tuning-experiment-run-20241022084054385593-tb-run\")\n",
      "tensorboard_run_resource = aiplatform.TensorboardRun(tensorboard_run_artifact.metadata[\"resourceName\"])\n",
      "tensorboard_run_resource.delete()\n",
      "tensorboard_run_artifact.delete()\n"
     ]
    },
    {
     "name": "stderr",
     "output_type": "stream",
     "text": [
      "WARNING:google.cloud.aiplatform.metadata.experiment_run_resource:Experiment run tuning-experiment-run-20241022084054385593 skipped backing tensorboard run deletion.\n",
      "To delete backing tensorboard run, execute the following:\n",
      "tensorboard_run_artifact = aiplatform.metadata.artifact.Artifact(artifact_name=f\"tuning-experiment-20241022084054385593-tuning-experiment-run-20241022084054385593-tb-run\")\n",
      "tensorboard_run_resource = aiplatform.TensorboardRun(tensorboard_run_artifact.metadata[\"resourceName\"])\n",
      "tensorboard_run_resource.delete()\n",
      "tensorboard_run_artifact.delete()\n"
     ]
    },
    {
     "name": "stdout",
     "output_type": "stream",
     "text": [
      "Deleting Context : projects/951134149941/locations/us-central1/metadataStores/default/contexts/tuning-experiment-20241022084054385593-tuning-experiment-run-20241022084054385593\n"
     ]
    },
    {
     "name": "stderr",
     "output_type": "stream",
     "text": [
      "INFO:google.cloud.aiplatform.base:Deleting Context : projects/951134149941/locations/us-central1/metadataStores/default/contexts/tuning-experiment-20241022084054385593-tuning-experiment-run-20241022084054385593\n"
     ]
    },
    {
     "name": "stdout",
     "output_type": "stream",
     "text": [
      "Context deleted. . Resource name: projects/951134149941/locations/us-central1/metadataStores/default/contexts/tuning-experiment-20241022084054385593-tuning-experiment-run-20241022084054385593\n"
     ]
    },
    {
     "name": "stderr",
     "output_type": "stream",
     "text": [
      "INFO:google.cloud.aiplatform.base:Context deleted. . Resource name: projects/951134149941/locations/us-central1/metadataStores/default/contexts/tuning-experiment-20241022084054385593-tuning-experiment-run-20241022084054385593\n"
     ]
    },
    {
     "name": "stdout",
     "output_type": "stream",
     "text": [
      "Deleting Context resource: projects/951134149941/locations/us-central1/metadataStores/default/contexts/tuning-experiment-20241022084054385593-tuning-experiment-run-20241022084054385593\n"
     ]
    },
    {
     "name": "stderr",
     "output_type": "stream",
     "text": [
      "INFO:google.cloud.aiplatform.base:Deleting Context resource: projects/951134149941/locations/us-central1/metadataStores/default/contexts/tuning-experiment-20241022084054385593-tuning-experiment-run-20241022084054385593\n"
     ]
    },
    {
     "name": "stdout",
     "output_type": "stream",
     "text": [
      "Delete Context backing LRO: projects/951134149941/locations/us-central1/metadataStores/default/contexts/tuning-experiment-20241022084054385593-tuning-experiment-run-20241022084054385593/operations/8182247397091442688\n"
     ]
    },
    {
     "name": "stderr",
     "output_type": "stream",
     "text": [
      "INFO:google.cloud.aiplatform.base:Delete Context backing LRO: projects/951134149941/locations/us-central1/metadataStores/default/contexts/tuning-experiment-20241022084054385593-tuning-experiment-run-20241022084054385593/operations/8182247397091442688\n"
     ]
    },
    {
     "name": "stdout",
     "output_type": "stream",
     "text": [
      "Context resource projects/951134149941/locations/us-central1/metadataStores/default/contexts/tuning-experiment-20241022084054385593-tuning-experiment-run-20241022084054385593 deleted.\n"
     ]
    },
    {
     "name": "stderr",
     "output_type": "stream",
     "text": [
      "INFO:google.cloud.aiplatform.base:Context resource projects/951134149941/locations/us-central1/metadataStores/default/contexts/tuning-experiment-20241022084054385593-tuning-experiment-run-20241022084054385593 deleted.\n"
     ]
    },
    {
     "name": "stdout",
     "output_type": "stream",
     "text": [
      "Deleting Context : projects/951134149941/locations/us-central1/metadataStores/default/contexts/tuning-experiment-20241022084054385593\n"
     ]
    },
    {
     "name": "stderr",
     "output_type": "stream",
     "text": [
      "INFO:google.cloud.aiplatform.base:Deleting Context : projects/951134149941/locations/us-central1/metadataStores/default/contexts/tuning-experiment-20241022084054385593\n"
     ]
    },
    {
     "name": "stdout",
     "output_type": "stream",
     "text": [
      "Context deleted. . Resource name: projects/951134149941/locations/us-central1/metadataStores/default/contexts/tuning-experiment-20241022084054385593\n"
     ]
    },
    {
     "name": "stderr",
     "output_type": "stream",
     "text": [
      "INFO:google.cloud.aiplatform.base:Context deleted. . Resource name: projects/951134149941/locations/us-central1/metadataStores/default/contexts/tuning-experiment-20241022084054385593\n"
     ]
    },
    {
     "name": "stdout",
     "output_type": "stream",
     "text": [
      "Deleting Context resource: projects/951134149941/locations/us-central1/metadataStores/default/contexts/tuning-experiment-20241022084054385593\n"
     ]
    },
    {
     "name": "stderr",
     "output_type": "stream",
     "text": [
      "INFO:google.cloud.aiplatform.base:Deleting Context resource: projects/951134149941/locations/us-central1/metadataStores/default/contexts/tuning-experiment-20241022084054385593\n"
     ]
    },
    {
     "name": "stdout",
     "output_type": "stream",
     "text": [
      "Delete Context backing LRO: projects/951134149941/locations/us-central1/metadataStores/default/contexts/tuning-experiment-20241022084054385593/operations/223260955620933632\n"
     ]
    },
    {
     "name": "stderr",
     "output_type": "stream",
     "text": [
      "INFO:google.cloud.aiplatform.base:Delete Context backing LRO: projects/951134149941/locations/us-central1/metadataStores/default/contexts/tuning-experiment-20241022084054385593/operations/223260955620933632\n"
     ]
    },
    {
     "name": "stdout",
     "output_type": "stream",
     "text": [
      "Context resource projects/951134149941/locations/us-central1/metadataStores/default/contexts/tuning-experiment-20241022084054385593 deleted.\n"
     ]
    },
    {
     "name": "stderr",
     "output_type": "stream",
     "text": [
      "INFO:google.cloud.aiplatform.base:Context resource projects/951134149941/locations/us-central1/metadataStores/default/contexts/tuning-experiment-20241022084054385593 deleted.\n"
     ]
    },
    {
     "name": "stdout",
     "output_type": "stream",
     "text": [
      "******************************\n",
      "projects/951134149941/locations/us-central1/endpoints/2719137335466786816\n",
      "Undeploying Endpoint model: projects/951134149941/locations/us-central1/endpoints/2719137335466786816\n"
     ]
    },
    {
     "name": "stderr",
     "output_type": "stream",
     "text": [
      "INFO:google.cloud.aiplatform.models:Undeploying Endpoint model: projects/951134149941/locations/us-central1/endpoints/2719137335466786816\n"
     ]
    },
    {
     "name": "stdout",
     "output_type": "stream",
     "text": [
      "Undeploy Endpoint model backing LRO: projects/951134149941/locations/us-central1/endpoints/2719137335466786816/operations/6272721155086352384\n"
     ]
    },
    {
     "name": "stderr",
     "output_type": "stream",
     "text": [
      "INFO:google.cloud.aiplatform.models:Undeploy Endpoint model backing LRO: projects/951134149941/locations/us-central1/endpoints/2719137335466786816/operations/6272721155086352384\n"
     ]
    },
    {
     "name": "stdout",
     "output_type": "stream",
     "text": [
      "Endpoint model undeployed. Resource name: projects/951134149941/locations/us-central1/endpoints/2719137335466786816\n"
     ]
    },
    {
     "name": "stderr",
     "output_type": "stream",
     "text": [
      "INFO:google.cloud.aiplatform.models:Endpoint model undeployed. Resource name: projects/951134149941/locations/us-central1/endpoints/2719137335466786816\n"
     ]
    },
    {
     "name": "stdout",
     "output_type": "stream",
     "text": [
      "Deleting Endpoint : projects/951134149941/locations/us-central1/endpoints/2719137335466786816\n"
     ]
    },
    {
     "name": "stderr",
     "output_type": "stream",
     "text": [
      "INFO:google.cloud.aiplatform.base:Deleting Endpoint : projects/951134149941/locations/us-central1/endpoints/2719137335466786816\n"
     ]
    },
    {
     "name": "stdout",
     "output_type": "stream",
     "text": [
      "Endpoint deleted. . Resource name: projects/951134149941/locations/us-central1/endpoints/2719137335466786816\n"
     ]
    },
    {
     "name": "stderr",
     "output_type": "stream",
     "text": [
      "INFO:google.cloud.aiplatform.base:Endpoint deleted. . Resource name: projects/951134149941/locations/us-central1/endpoints/2719137335466786816\n"
     ]
    },
    {
     "name": "stdout",
     "output_type": "stream",
     "text": [
      "Deleting Endpoint resource: projects/951134149941/locations/us-central1/endpoints/2719137335466786816\n"
     ]
    },
    {
     "name": "stderr",
     "output_type": "stream",
     "text": [
      "INFO:google.cloud.aiplatform.base:Deleting Endpoint resource: projects/951134149941/locations/us-central1/endpoints/2719137335466786816\n"
     ]
    },
    {
     "name": "stdout",
     "output_type": "stream",
     "text": [
      "Delete Endpoint backing LRO: projects/951134149941/locations/us-central1/operations/2886295710280450048\n"
     ]
    },
    {
     "name": "stderr",
     "output_type": "stream",
     "text": [
      "INFO:google.cloud.aiplatform.base:Delete Endpoint backing LRO: projects/951134149941/locations/us-central1/operations/2886295710280450048\n"
     ]
    },
    {
     "name": "stdout",
     "output_type": "stream",
     "text": [
      "Endpoint resource projects/951134149941/locations/us-central1/endpoints/2719137335466786816 deleted.\n"
     ]
    },
    {
     "name": "stderr",
     "output_type": "stream",
     "text": [
      "INFO:google.cloud.aiplatform.base:Endpoint resource projects/951134149941/locations/us-central1/endpoints/2719137335466786816 deleted.\n"
     ]
    },
    {
     "name": "stdout",
     "output_type": "stream",
     "text": [
      "******************************\n",
      "Removing gs://gemini-image-sft/images/20.jpeg#1729611251283975...\n",
      "Removing gs://gemini-image-sft/images/1.jpeg#1729611251046026...\n",
      "Removing gs://gemini-image-sft/images/18.jpeg#1729611251140833...\n",
      "Removing gs://gemini-image-sft/images/10.jpeg#1729611251004270...\n",
      "Removing gs://gemini-image-sft/images/100.jpeg#1729611251086653...\n",
      "Removing gs://gemini-image-sft/images/23.jpeg#1729611251245491...\n",
      "Removing gs://gemini-image-sft/images/24.jpeg#1729611251211907...\n",
      "Removing gs://gemini-image-sft/images/11.jpeg#1729611251412029...\n",
      "Removing gs://gemini-image-sft/images/19.jpeg#1729611251370626...\n",
      "Removing gs://gemini-image-sft/images/13.jpeg#1729611251024016...\n",
      "Removing gs://gemini-image-sft/images/12.jpeg#1729611251280857...\n",
      "Removing gs://gemini-image-sft/images/14.jpeg#1729611251123563...\n",
      "Removing gs://gemini-image-sft/images/15.jpeg#1729611251313422...\n",
      "Removing gs://gemini-image-sft/images/25.jpeg#1729611251177523...\n",
      "Removing gs://gemini-image-sft/images/21.jpeg#1729611251306374...\n",
      "Removing gs://gemini-image-sft/images/16.jpeg#1729611251211606...\n",
      "Removing gs://gemini-image-sft/images/22.jpeg#1729611251190891...\n",
      "Removing gs://gemini-image-sft/images/26.jpeg#1729611251269142...\n",
      "Removing gs://gemini-image-sft/images/2.jpeg#1729611251335665...\n",
      "Removing gs://gemini-image-sft/images/17.jpeg#1729611251310766...\n",
      "Removing gs://gemini-image-sft/images/27.jpeg#1729611251251748...               \n",
      "Removing gs://gemini-image-sft/images/28.jpeg#1729611251256076...               \n",
      "Removing gs://gemini-image-sft/images/29.jpeg#1729611251253819...\n",
      "Removing gs://gemini-image-sft/images/3.jpeg#1729611251389280...                \n",
      "Removing gs://gemini-image-sft/images/30.jpeg#1729611251346205...               \n",
      "Removing gs://gemini-image-sft/images/31.jpeg#1729611251403322...\n",
      "Removing gs://gemini-image-sft/images/32.jpeg#1729611251419181...\n",
      "Removing gs://gemini-image-sft/images/33.jpeg#1729611251461869...\n",
      "Removing gs://gemini-image-sft/images/34.jpeg#1729611251418190...               \n",
      "Removing gs://gemini-image-sft/images/35.jpeg#1729611251479266...\n",
      "Removing gs://gemini-image-sft/images/39.jpeg#1729611251499388...\n",
      "Removing gs://gemini-image-sft/images/36.jpeg#1729611251421705...\n",
      "Removing gs://gemini-image-sft/images/38.jpeg#1729611251481603...\n",
      "Removing gs://gemini-image-sft/images/37.jpeg#1729611251437972...\n",
      "Removing gs://gemini-image-sft/images/4.jpeg#1729611251447583...                \n",
      "Removing gs://gemini-image-sft/images/40.jpeg#1729611251479101...               \n",
      "Removing gs://gemini-image-sft/images/45.jpeg#1729611251546235...               \n",
      "Removing gs://gemini-image-sft/images/41.jpeg#1729611251491025...               \n",
      "Removing gs://gemini-image-sft/images/42.jpeg#1729611251495536...\n",
      "Removing gs://gemini-image-sft/images/43.jpeg#1729611251529486...\n",
      "Removing gs://gemini-image-sft/images/46.jpeg#1729611251569193...\n",
      "Removing gs://gemini-image-sft/images/44.jpeg#1729611251567610...\n",
      "Removing gs://gemini-image-sft/images/47.jpeg#1729611251574792...\n",
      "Removing gs://gemini-image-sft/images/48.jpeg#1729611251657895...               \n",
      "Removing gs://gemini-image-sft/images/49.jpeg#1729611251601381...               \n",
      "Removing gs://gemini-image-sft/images/5.jpeg#1729611251600643...\n",
      "Removing gs://gemini-image-sft/images/50.jpeg#1729611251641278...               \n",
      "Removing gs://gemini-image-sft/images/51.jpeg#1729611251630980...               \n",
      "Removing gs://gemini-image-sft/images/54.jpeg#1729611251663426...               \n",
      "Removing gs://gemini-image-sft/images/55.jpeg#1729611251675167...\n",
      "Removing gs://gemini-image-sft/images/52.jpeg#1729611251634345...\n",
      "Removing gs://gemini-image-sft/images/53.jpeg#1729611251625563...\n",
      "Removing gs://gemini-image-sft/images/56.jpeg#1729611251741386...\n",
      "Removing gs://gemini-image-sft/images/57.jpeg#1729611251706233...               \n",
      "Removing gs://gemini-image-sft/images/6.jpeg#1729611251708606...                \n",
      "Removing gs://gemini-image-sft/images/59.jpeg#1729611251818047...\n",
      "Removing gs://gemini-image-sft/images/58.jpeg#1729611251675776...\n",
      "Removing gs://gemini-image-sft/images/61.jpeg#1729611251796294...               \n",
      "Removing gs://gemini-image-sft/images/60.jpeg#1729611251737108...\n",
      "Removing gs://gemini-image-sft/images/62.jpeg#1729611251729293...\n",
      "Removing gs://gemini-image-sft/images/63.jpeg#1729611251768005...               \n",
      "Removing gs://gemini-image-sft/images/65.jpeg#1729611251815026...\n",
      "Removing gs://gemini-image-sft/images/64.jpeg#1729611251814473...               \n",
      "Removing gs://gemini-image-sft/images/67.jpeg#1729611251849581...               \n",
      "Removing gs://gemini-image-sft/images/68.jpeg#1729611251839604...               \n",
      "Removing gs://gemini-image-sft/images/69.jpeg#1729611251874137...               \n",
      "Removing gs://gemini-image-sft/images/66.jpeg#1729611251800243...               \n",
      "Removing gs://gemini-image-sft/images/7.jpeg#1729611251836069...\n",
      "Removing gs://gemini-image-sft/images/72.jpeg#1729611251909357...               \n",
      "Removing gs://gemini-image-sft/images/70.jpeg#1729611251813848...               \n",
      "Removing gs://gemini-image-sft/images/71.jpeg#1729611251868615...\n",
      "Removing gs://gemini-image-sft/images/73.jpeg#1729611251954090...               \n",
      "Removing gs://gemini-image-sft/images/74.jpeg#1729611251876244...\n",
      "Removing gs://gemini-image-sft/images/76.jpeg#1729611251897192...               \n",
      "Removing gs://gemini-image-sft/images/75.jpeg#1729611251910912...\n",
      "Removing gs://gemini-image-sft/images/79.jpeg#1729611252061124...               \n",
      "Removing gs://gemini-image-sft/images/78.jpeg#1729611251906052...\n",
      "Removing gs://gemini-image-sft/images/77.jpeg#1729611251907032...\n",
      "Removing gs://gemini-image-sft/images/80.jpeg#1729611252032581...\n",
      "Removing gs://gemini-image-sft/images/8.jpeg#1729611251964746...\n",
      "Removing gs://gemini-image-sft/images/82.jpeg#1729611252054304...               \n",
      "Removing gs://gemini-image-sft/images/81.jpeg#1729611252007751...\n",
      "Removing gs://gemini-image-sft/images/83.jpeg#1729611252025114...               \n",
      "Removing gs://gemini-image-sft/images/85.jpeg#1729611252128306...               \n",
      "Removing gs://gemini-image-sft/images/87.jpeg#1729611252067926...\n",
      "Removing gs://gemini-image-sft/images/86.jpeg#1729611252025032...\n",
      "Removing gs://gemini-image-sft/images/84.jpeg#1729611252132736...\n",
      "Removing gs://gemini-image-sft/images/88.jpeg#1729611252052634...               \n",
      "Removing gs://gemini-image-sft/images/89.jpeg#1729611252116829...\n",
      "Removing gs://gemini-image-sft/images/9.jpeg#1729611252153042...                \n",
      "Removing gs://gemini-image-sft/images/90.jpeg#1729611252140558...               \n",
      "Removing gs://gemini-image-sft/images/92.jpeg#1729611252126081...\n",
      "Removing gs://gemini-image-sft/images/91.jpeg#1729611252174140...\n",
      "Removing gs://gemini-image-sft/images/93.jpeg#1729611252118613...               \n",
      "Removing gs://gemini-image-sft/images/94.jpeg#1729611252149178...\n",
      "Removing gs://gemini-image-sft/images/95.jpeg#1729611252129663...               \n",
      "Removing gs://gemini-image-sft/images/97.jpeg#1729611252223842...\n",
      "Removing gs://gemini-image-sft/images/98.jpeg#1729611252211776...               \n",
      "Removing gs://gemini-image-sft/images/96.jpeg#1729611252231280...\n",
      "Removing gs://gemini-image-sft/images/99.jpeg#1729611252236534...               \n",
      "Removing gs://gemini-image-sft/train/train.jsonl#1729611319675074...            \n",
      "Removing gs://gemini-image-sft/val/val.jsonl#1729611336909758...                \n",
      "/ [102/102 objects] 100% Done                                                   \n",
      "Operation completed over 102 objects.                                            \n",
      "Removing gs://gemini-image-sft/...\n"
     ]
    }
   ],
   "source": [
    "# Delete Experiment.\n",
    "delete_experiments = True\n",
    "if delete_experiments:\n",
    "    experiments_list = aiplatform.Experiment.list()\n",
    "    for experiment in experiments_list:\n",
    "        if experiment.resource_name == experiment_name:\n",
    "            print(experiment.resource_name)\n",
    "            experiment.delete()\n",
    "            break\n",
    "\n",
    "print(\"***\" * 10)\n",
    "\n",
    "# Delete Endpoint.\n",
    "delete_endpoint = True\n",
    "# If force is set to True, all deployed models on this\n",
    "# Endpoint will be first undeployed.\n",
    "if delete_endpoint:\n",
    "    for endpoint in aiplatform.Endpoint.list():\n",
    "        if endpoint.resource_name == tuned_model_endpoint_name:\n",
    "            print(endpoint.resource_name)\n",
    "            endpoint.delete(force=True)\n",
    "            break\n",
    "\n",
    "print(\"***\" * 10)\n",
    "\n",
    "# Delete Cloud Storage Bucket.\n",
    "delete_bucket = True\n",
    "if delete_bucket:\n",
    "    ! gsutil -m rm -r $BUCKET_URI"
   ]
  }
 ],
 "metadata": {
  "colab": {
   "collapsed_sections": [
    "Dw-gQpLXTe67",
    "uYAjjpdG_cpP",
    "5680557f-67bd-4e8c-a383-02ab655246c5"
   ],
   "name": "supervised_finetuning_using_gemini_on_image_data.ipynb",
   "toc_visible": true
  },
  "environment": {
   "kernel": "conda-base-py",
   "name": "workbench-notebooks.m125",
   "type": "gcloud",
   "uri": "us-docker.pkg.dev/deeplearning-platform-release/gcr.io/workbench-notebooks:m125"
  },
  "kernelspec": {
   "display_name": "Python 3 (ipykernel) (Local)",
   "language": "python",
   "name": "conda-base-py"
  },
  "language_info": {
   "codemirror_mode": {
    "name": "ipython",
    "version": 3
   },
   "file_extension": ".py",
   "mimetype": "text/x-python",
   "name": "python",
   "nbconvert_exporter": "python",
   "pygments_lexer": "ipython3",
   "version": "3.10.15"
  }
 },
 "nbformat": 4,
 "nbformat_minor": 4
}
